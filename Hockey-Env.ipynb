{
 "cells": [
  {
   "cell_type": "code",
   "execution_count": 2,
   "metadata": {
    "ExecuteTime": {
     "end_time": "2019-08-21T19:12:18.980322Z",
     "start_time": "2019-08-21T19:12:18.819269Z"
    }
   },
   "outputs": [],
   "source": [
    "import numpy as np\n",
    "import hockey_env as h_env\n",
    "import gym\n",
    "from importlib import reload\n",
    "import time"
   ]
  },
  {
   "cell_type": "code",
   "execution_count": 3,
   "metadata": {
    "ExecuteTime": {
     "end_time": "2019-08-21T19:12:19.327491Z",
     "start_time": "2019-08-21T19:12:19.321977Z"
    }
   },
   "outputs": [],
   "source": [
    "np.set_printoptions(suppress=True)"
   ]
  },
  {
   "cell_type": "markdown",
   "metadata": {
    "ExecuteTime": {
     "end_time": "2018-12-20T21:03:35.086427Z",
     "start_time": "2018-12-20T21:03:35.082123Z"
    }
   },
   "source": [
    "# Normal Game Play"
   ]
  },
  {
   "cell_type": "code",
   "execution_count": 9,
   "metadata": {
    "ExecuteTime": {
     "end_time": "2019-08-21T19:12:20.113779Z",
     "start_time": "2019-08-21T19:12:20.096161Z"
    }
   },
   "outputs": [
    {
     "name": "stdout",
     "output_type": "stream",
     "text": [
      "Cannot re-register id: Hockey-v0\n"
     ]
    },
    {
     "data": {
      "text/plain": [
       "<module 'hockey_env' from '/home/georg/src/python/laser-hockey-env/hockey_env.py'>"
      ]
     },
     "execution_count": 9,
     "metadata": {},
     "output_type": "execute_result"
    }
   ],
   "source": [
    "reload(h_env)"
   ]
  },
  {
   "cell_type": "code",
   "execution_count": 10,
   "metadata": {
    "ExecuteTime": {
     "end_time": "2019-08-21T19:12:20.679643Z",
     "start_time": "2019-08-21T19:12:20.671317Z"
    }
   },
   "outputs": [],
   "source": [
    "env = h_env.HockeyEnv()"
   ]
  },
  {
   "cell_type": "markdown",
   "metadata": {},
   "source": [
    "have a look at the initialization condition: alternating who starts and are random in puck position"
   ]
  },
  {
   "cell_type": "code",
   "execution_count": 11,
   "metadata": {
    "ExecuteTime": {
     "end_time": "2019-08-21T19:12:21.968928Z",
     "start_time": "2019-08-21T19:12:21.528122Z"
    }
   },
   "outputs": [
    {
     "data": {
      "text/plain": [
       "True"
      ]
     },
     "execution_count": 11,
     "metadata": {},
     "output_type": "execute_result"
    }
   ],
   "source": [
    "obs = env.reset()\n",
    "obs_agent2 = env.obs_agent_two()\n",
    "env.render()"
   ]
  },
  {
   "cell_type": "markdown",
   "metadata": {},
   "source": [
    "one episode with random agents"
   ]
  },
  {
   "cell_type": "code",
   "execution_count": 7,
   "metadata": {
    "ExecuteTime": {
     "end_time": "2019-08-21T19:14:39.528415Z",
     "start_time": "2019-08-21T19:14:31.154821Z"
    }
   },
   "outputs": [],
   "source": [
    "#obs = env.reset()\n",
    "obs_agent2 = env.obs_agent_two()\n",
    "\n",
    "for _ in range(600):\n",
    "    env.render()\n",
    "    a1 = np.random.uniform(-1,1,3)\n",
    "    a2 = np.random.uniform(-1,1,3)    \n",
    "    obs, r, d, info = env.step(np.hstack([a1,a2]))    \n",
    "    obs_agent2 = env.obs_agent_two()\n",
    "    if d: break"
   ]
  },
  {
   "cell_type": "markdown",
   "metadata": {},
   "source": [
    "Without rendering, it runs much faster"
   ]
  },
  {
   "cell_type": "code",
   "execution_count": 26,
   "metadata": {
    "ExecuteTime": {
     "end_time": "2019-01-11T08:00:20.475049Z",
     "start_time": "2019-01-11T08:00:20.312847Z"
    }
   },
   "outputs": [],
   "source": [
    "obs = env.reset()\n",
    "obs_agent2 = env.obs_agent_two()\n",
    "\n",
    "for _ in range(600):    \n",
    "    a1 = [1,-.5,0] # np.random.uniform(-1,1,3)\n",
    "    a2 = [1,0.,0] # np.random.uniform(-1,1,3)*0    \n",
    "    obs, r, d, info = env.step(np.hstack([a1,a2]))    \n",
    "    obs_agent2 = env.obs_agent_two()\n",
    "    if d: break"
   ]
  },
  {
   "cell_type": "markdown",
   "metadata": {
    "ExecuteTime": {
     "end_time": "2019-01-11T07:57:48.631793Z",
     "start_time": "2019-01-11T07:57:48.627528Z"
    }
   },
   "source": [
    "\"info\" dict contains useful proxy rewards and winning information"
   ]
  },
  {
   "cell_type": "code",
   "execution_count": 27,
   "metadata": {
    "ExecuteTime": {
     "end_time": "2019-01-11T08:00:20.784862Z",
     "start_time": "2019-01-11T08:00:20.779373Z"
    }
   },
   "outputs": [
    {
     "data": {
      "text/plain": [
       "{'winner': 0,\n",
       " 'reward_closeness_to_puck': 0,\n",
       " 'reward_touch_puck': 0.0,\n",
       " 'reward_puck_direction': 0.0}"
      ]
     },
     "execution_count": 27,
     "metadata": {},
     "output_type": "execute_result"
    }
   ],
   "source": [
    "info"
   ]
  },
  {
   "cell_type": "markdown",
   "metadata": {
    "ExecuteTime": {
     "end_time": "2019-01-11T07:59:24.867441Z",
     "start_time": "2019-01-11T07:59:24.862324Z"
    }
   },
   "source": [
    "Winner == 0: draw\n",
    "\n",
    "Winner == 1: you (left player)\n",
    "\n",
    "Winner == -1: opponent wins (right player)"
   ]
  },
  {
   "cell_type": "markdown",
   "metadata": {
    "ExecuteTime": {
     "end_time": "2018-12-20T20:37:41.013424Z",
     "start_time": "2018-12-20T20:37:41.009298Z"
    }
   },
   "source": [
    "# Train Shooting"
   ]
  },
  {
   "cell_type": "code",
   "execution_count": 263,
   "metadata": {
    "ExecuteTime": {
     "end_time": "2019-01-11T08:00:32.294924Z",
     "start_time": "2019-01-11T08:00:32.288528Z"
    }
   },
   "outputs": [],
   "source": [
    "env = h_env.HockeyEnv(mode=h_env.HockeyEnv.TRAIN_SHOOTING)"
   ]
  },
  {
   "cell_type": "code",
   "execution_count": 280,
   "metadata": {
    "ExecuteTime": {
     "end_time": "2019-01-11T08:01:01.754465Z",
     "start_time": "2019-01-11T08:01:01.728781Z"
    }
   },
   "outputs": [
    {
     "data": {
      "text/plain": [
       "True"
      ]
     },
     "execution_count": 280,
     "metadata": {},
     "output_type": "execute_result"
    }
   ],
   "source": [
    "o = env.reset()\n",
    "env.render()"
   ]
  },
  {
   "cell_type": "code",
   "execution_count": 281,
   "metadata": {
    "ExecuteTime": {
     "end_time": "2019-01-11T08:01:05.573939Z",
     "start_time": "2019-01-11T08:01:02.243221Z"
    }
   },
   "outputs": [],
   "source": [
    "for _ in range(200):\n",
    "    env.render()\n",
    "    a1 = [1,0,0] # np.random.uniform(-1,1,3)\n",
    "    a2 = [0,0.,0] \n",
    "    obs, r, d, info = env.step(np.hstack([a1,a2]))    \n",
    "    obs_agent2 = env.obs_agent_two()\n",
    "    if d: break"
   ]
  },
  {
   "cell_type": "markdown",
   "metadata": {
    "ExecuteTime": {
     "end_time": "2018-12-20T20:37:41.013424Z",
     "start_time": "2018-12-20T20:37:41.009298Z"
    }
   },
   "source": [
    "# Train DEFENDING"
   ]
  },
  {
   "cell_type": "code",
   "execution_count": 38,
   "metadata": {
    "ExecuteTime": {
     "end_time": "2019-01-11T08:01:07.630627Z",
     "start_time": "2019-01-11T08:01:07.625675Z"
    }
   },
   "outputs": [
    {
     "data": {
      "text/plain": [
       "<module 'laser_hockey_env' from '/home/gmartius_local/projects/InfoRL/laser-hockey-rl/laserhockeyenv/laser_hockey_env.py'>"
      ]
     },
     "execution_count": 38,
     "metadata": {},
     "output_type": "execute_result"
    }
   ],
   "source": [
    "reload(lh)"
   ]
  },
  {
   "cell_type": "code",
   "execution_count": 39,
   "metadata": {
    "ExecuteTime": {
     "end_time": "2019-01-11T08:01:07.981240Z",
     "start_time": "2019-01-11T08:01:07.974283Z"
    }
   },
   "outputs": [],
   "source": [
    "env = lh.LaserHockeyEnv(mode=lh.LaserHockeyEnv.TRAIN_DEFENSE)"
   ]
  },
  {
   "cell_type": "code",
   "execution_count": 40,
   "metadata": {
    "ExecuteTime": {
     "end_time": "2019-01-11T08:01:08.317742Z",
     "start_time": "2019-01-11T08:01:08.312949Z"
    }
   },
   "outputs": [],
   "source": [
    "o = env.reset()\n",
    "env.render()"
   ]
  },
  {
   "cell_type": "code",
   "execution_count": 42,
   "metadata": {
    "ExecuteTime": {
     "end_time": "2019-01-11T08:01:17.885328Z",
     "start_time": "2019-01-11T08:01:17.159573Z"
    }
   },
   "outputs": [
    {
     "name": "stdout",
     "output_type": "stream",
     "text": [
      "Player 2 scored\n"
     ]
    }
   ],
   "source": [
    "for _ in range(60):\n",
    "    env.render()\n",
    "    a1 = [1,0,0] # np.random.uniform(-1,1,3)\n",
    "    a2 = [0,0.,0] \n",
    "    obs, r, d, info = env.step(np.hstack([a1,a2]))    \n",
    "    obs_agent2 = env.obs_agent_two()\n",
    "    if d: break"
   ]
  },
  {
   "cell_type": "markdown",
   "metadata": {
    "ExecuteTime": {
     "end_time": "2018-12-20T20:37:41.013424Z",
     "start_time": "2018-12-20T20:37:41.009298Z"
    }
   },
   "source": [
    "# Using discrete actions"
   ]
  },
  {
   "cell_type": "code",
   "execution_count": null,
   "metadata": {
    "ExecuteTime": {
     "end_time": "2018-12-21T13:08:25.605760Z",
     "start_time": "2018-12-21T13:08:25.593455Z"
    }
   },
   "outputs": [],
   "source": [
    "env = lh.LaserHockeyEnv(mode=lh.LaserHockeyEnv.TRAIN_SHOOTING)"
   ]
  },
  {
   "cell_type": "code",
   "execution_count": null,
   "metadata": {
    "ExecuteTime": {
     "end_time": "2018-12-21T13:08:25.849615Z",
     "start_time": "2018-12-21T13:08:25.845081Z"
    }
   },
   "outputs": [],
   "source": [
    "import random"
   ]
  },
  {
   "cell_type": "code",
   "execution_count": null,
   "metadata": {
    "ExecuteTime": {
     "end_time": "2018-12-21T13:08:29.582257Z",
     "start_time": "2018-12-21T13:08:26.211196Z"
    }
   },
   "outputs": [],
   "source": [
    "for _ in range(200):\n",
    "    env.render()\n",
    "    a1_discrete = random.randint(0,7)\n",
    "    a1 = env.discrete_to_continous_action(a1_discrete)\n",
    "    a2 = [0,0.,0] \n",
    "    obs, r, d, info = env.step(np.hstack([a1,a2]))    \n",
    "    obs_agent2 = env.obs_agent_two()\n",
    "    if d: break"
   ]
  },
  {
   "cell_type": "code",
   "execution_count": 243,
   "metadata": {},
   "outputs": [],
   "source": [
    "env.close()"
   ]
  },
  {
   "cell_type": "markdown",
   "metadata": {
    "ExecuteTime": {
     "end_time": "2018-12-20T20:37:41.013424Z",
     "start_time": "2018-12-20T20:37:41.009298Z"
    }
   },
   "source": [
    "# Hand-crafted Opponent"
   ]
  },
  {
   "cell_type": "code",
   "execution_count": 252,
   "metadata": {
    "ExecuteTime": {
     "end_time": "2019-08-21T19:16:04.371746Z",
     "start_time": "2019-08-21T19:16:04.353350Z"
    }
   },
   "outputs": [
    {
     "name": "stdout",
     "output_type": "stream",
     "text": [
      "Cannot re-register id: Hockey-v0\n"
     ]
    },
    {
     "data": {
      "text/plain": [
       "<module 'hockey_env' from '/home/georg/src/python/laser-hockey-env/hockey_env.py'>"
      ]
     },
     "execution_count": 252,
     "metadata": {},
     "output_type": "execute_result"
    }
   ],
   "source": [
    "reload(h_env)"
   ]
  },
  {
   "cell_type": "code",
   "execution_count": 253,
   "metadata": {
    "ExecuteTime": {
     "end_time": "2019-08-21T19:16:04.516774Z",
     "start_time": "2019-08-21T19:16:04.510863Z"
    }
   },
   "outputs": [],
   "source": [
    "env = h_env.HockeyEnv()"
   ]
  },
  {
   "cell_type": "code",
   "execution_count": 254,
   "metadata": {
    "ExecuteTime": {
     "end_time": "2019-08-21T19:16:04.729445Z",
     "start_time": "2019-08-21T19:16:04.666357Z"
    }
   },
   "outputs": [
    {
     "data": {
      "text/plain": [
       "True"
      ]
     },
     "execution_count": 254,
     "metadata": {},
     "output_type": "execute_result"
    }
   ],
   "source": [
    "o = env.reset()\n",
    "env.render()"
   ]
  },
  {
   "cell_type": "code",
   "execution_count": 255,
   "metadata": {
    "ExecuteTime": {
     "end_time": "2019-08-21T19:16:09.794765Z",
     "start_time": "2019-08-21T19:16:09.790764Z"
    }
   },
   "outputs": [],
   "source": [
    "player1 = h_env.BasicOpponent(weak=False)\n",
    "player2 = h_env.BasicOpponent()"
   ]
  },
  {
   "cell_type": "code",
   "execution_count": 256,
   "metadata": {
    "ExecuteTime": {
     "end_time": "2019-08-21T19:16:10.202581Z",
     "start_time": "2019-08-21T19:16:10.198608Z"
    }
   },
   "outputs": [],
   "source": [
    "obs_buffer = []"
   ]
  },
  {
   "cell_type": "code",
   "execution_count": 262,
   "metadata": {
    "ExecuteTime": {
     "end_time": "2019-08-21T19:16:22.594530Z",
     "start_time": "2019-08-21T19:16:18.495500Z"
    }
   },
   "outputs": [],
   "source": [
    "obs = env.reset()\n",
    "obs_agent2 = env.obs_agent_two()\n",
    "for _ in range(500):\n",
    "    env.render()\n",
    "    a1 = player1.act(obs)\n",
    "    a2 = player2.act(obs_agent2)\n",
    "    obs, r, d, info = env.step(np.hstack([a1,a2]))    \n",
    "    obs_buffer.append(obs)\n",
    "    obs_agent2 = env.obs_agent_two()\n",
    "    if d: break"
   ]
  },
  {
   "cell_type": "code",
   "execution_count": 59,
   "metadata": {
    "ExecuteTime": {
     "end_time": "2018-12-28T12:27:58.824246Z",
     "start_time": "2018-12-28T12:27:58.813103Z"
    }
   },
   "outputs": [],
   "source": [
    "obs_buffer = np.asarray(obs_buffer)"
   ]
  },
  {
   "cell_type": "code",
   "execution_count": 60,
   "metadata": {
    "ExecuteTime": {
     "end_time": "2019-08-21T19:16:27.114353Z",
     "start_time": "2019-08-21T19:16:27.103201Z"
    }
   },
   "outputs": [
    {
     "data": {
      "text/plain": [
       "array([-2.46823438,  0.12481995,  0.01314017,  0.99303848, -0.23188513,\n",
       "        0.38560986, -0.00804078,  1.82346687, -0.14716781,  0.01053422,\n",
       "        0.99426196, -0.55333737,  0.01959607, -0.00605729, -0.60969726,\n",
       "        0.00765195,  1.24811836,  0.20854263])"
      ]
     },
     "execution_count": 60,
     "metadata": {},
     "output_type": "execute_result"
    }
   ],
   "source": [
    "np.mean(obs_buffer,axis=0)"
   ]
  },
  {
   "cell_type": "code",
   "execution_count": 27,
   "metadata": {
    "ExecuteTime": {
     "end_time": "2019-08-21T19:16:27.902145Z",
     "start_time": "2019-08-21T19:16:27.894650Z"
    }
   },
   "outputs": [
    {
     "data": {
      "text/plain": [
       "array([ 1.1493046 ,  0.50530025,  0.09808709,  0.00822017,  6.99315689,\n",
       "        3.26768597,  1.40159138,  0.99988718,  0.64416343,  0.22625849,\n",
       "        0.0961238 ,  7.72270112,  3.19218494,  2.78120454,  1.8795743 ,\n",
       "        0.79278917, 12.34525226,  4.84355388])"
      ]
     },
     "execution_count": 27,
     "metadata": {},
     "output_type": "execute_result"
    }
   ],
   "source": [
    "np.std(obs_buffer,axis=0)"
   ]
  },
  {
   "cell_type": "code",
   "execution_count": 28,
   "metadata": {
    "ExecuteTime": {
     "end_time": "2019-08-21T19:16:28.497119Z",
     "start_time": "2019-08-21T19:16:28.492780Z"
    }
   },
   "outputs": [],
   "source": [
    "scaling = [ 1.0,  1.0 , 3.14, 4.0, 4.0, 2.0,  \n",
    "            1.0,  1.0,  3.14, 4.0, 4.0, 2.0,  \n",
    "            2.0, 2.0, 10.0, 10.0]"
   ]
  },
  {
   "cell_type": "code",
   "execution_count": 30,
   "metadata": {},
   "outputs": [],
   "source": [
    "import pylab as plt"
   ]
  },
  {
   "cell_type": "code",
   "execution_count": 36,
   "metadata": {},
   "outputs": [
    {
     "data": {
      "text/plain": [
       "array([-0.85213614, -0.85213614, -0.85213614, -0.85213614, -0.85213614,\n",
       "       -0.85213614, -0.85213614, -0.85213614, -0.85213614, -0.85213614,\n",
       "       -0.85213614, -0.51080751, -0.16981983,  0.17082644,  0.51113224,\n",
       "        0.85109758,  1.19072294,  1.53000879,  1.86895561,  2.2075634 ,\n",
       "        2.54583263,  2.88376331,  3.22135639,  3.55861187,  3.86799622,\n",
       "        3.79772854,  0.95934153,  0.95934153,  0.95934153,  0.95934153,\n",
       "        0.95934153,  0.95934153,  0.95934153,  0.95934153,  0.95934153,\n",
       "        0.95934153,  0.95934153,  0.69899082,  0.43890047,  0.17907047,\n",
       "       -0.08049965,  0.41269398,  0.80724907,  0.46024609,  0.18264389,\n",
       "       -0.09468079, -0.37172842, -0.64849901, -0.92499256, -1.20120978,\n",
       "       -1.47715068, -1.75281572, -2.0036602 , -2.24608493, -2.48826718,\n",
       "       -2.7302072 , -2.97190523, -3.21336174, -3.45457649, -3.69555044,\n",
       "       -3.73543739, -3.50696993, -3.27873087, -3.05072021, -2.82293725,\n",
       "       -2.59538221, -2.36805487, -2.14095473, -1.91408181, -1.68743563,\n",
       "       -1.46101618, -1.23482323, -1.0088563 , -0.78311539, -0.55760002,\n",
       "       -0.3323102 , -0.10724592,  0.11759329,  0.34220791,  0.56659794,\n",
       "        0.79076338,  1.00027227,  1.19771957,  1.39496946,  1.59202194,\n",
       "        1.78887749,  1.9855361 ,  2.18199825,  2.37826395,  2.57433319,\n",
       "        2.77020645,  2.96588373,  3.16136551,  3.35665131,  3.55174255,\n",
       "        3.7466383 ,  3.94133949,  4.13584614, -1.29593635, -1.29593635,\n",
       "       -1.29593635, -1.29593635, -1.29593635, -1.29593635, -1.29593635,\n",
       "       -1.29593635, -1.29593635, -0.98669672, -0.67776632, -0.36914492,\n",
       "       -0.06083202,  0.24717236, -0.29932642, -0.73652554, -1.08628488,\n",
       "       -1.43569446, -1.13025951, -0.82512999, -0.52030563, -0.21578598,\n",
       "        0.08842897, -0.40862942, -0.80627632, -1.1243937 , -1.44219303,\n",
       "       -1.75967455, -2.07683849, -1.5171051 , -1.06931829, -0.71108913,\n",
       "       -0.35321808,  0.00429535,  0.36145115,  0.7182498 ,  1.07469177,\n",
       "        1.43077707,  1.78650618,  2.14187956,  2.4968977 ,  2.85156107,\n",
       "        3.20586967,  3.55982399,  3.91342449,  4.26667118])"
      ]
     },
     "execution_count": 36,
     "metadata": {},
     "output_type": "execute_result"
    }
   ],
   "source": [
    "obs_buffer[:,14]"
   ]
  },
  {
   "cell_type": "code",
   "execution_count": 61,
   "metadata": {},
   "outputs": [
    {
     "data": {
      "text/plain": [
       "[<matplotlib.lines.Line2D at 0x7f81722fae80>]"
      ]
     },
     "execution_count": 61,
     "metadata": {},
     "output_type": "execute_result"
    },
    {
     "data": {
      "image/png": "[encoded data removed]",
      "text/plain": [
       "<Figure size 432x288 with 1 Axes>"
      ]
     },
     "metadata": {
      "needs_background": "light"
     },
     "output_type": "display_data"
    }
   ],
   "source": [
    "plt.plot(obs_buffer[:,14])"
   ]
  },
  {
   "cell_type": "code",
   "execution_count": 100,
   "metadata": {},
   "outputs": [],
   "source": [
    "env.close()"
   ]
  },
  {
   "cell_type": "markdown",
   "metadata": {},
   "source": [
    "# Human Opponent"
   ]
  },
  {
   "cell_type": "code",
   "execution_count": 101,
   "metadata": {},
   "outputs": [
    {
     "name": "stdout",
     "output_type": "stream",
     "text": [
      "Cannot re-register id: Hockey-v0\n"
     ]
    },
    {
     "data": {
      "text/plain": [
       "<module 'hockey_env' from '/home/georg/src/python/laser-hockey-env/hockey_env.py'>"
      ]
     },
     "execution_count": 101,
     "metadata": {},
     "output_type": "execute_result"
    }
   ],
   "source": [
    "reload(h_env)"
   ]
  },
  {
   "cell_type": "code",
   "execution_count": 102,
   "metadata": {
    "ExecuteTime": {
     "end_time": "2019-08-21T19:16:33.295971Z",
     "start_time": "2019-08-21T19:16:33.290071Z"
    }
   },
   "outputs": [],
   "source": [
    "env = h_env.HockeyEnv(keep_mode=True)"
   ]
  },
  {
   "cell_type": "code",
   "execution_count": 103,
   "metadata": {
    "ExecuteTime": {
     "end_time": "2019-08-21T19:16:33.801588Z",
     "start_time": "2019-08-21T19:16:33.738351Z"
    }
   },
   "outputs": [
    {
     "data": {
      "text/plain": [
       "True"
      ]
     },
     "execution_count": 103,
     "metadata": {},
     "output_type": "execute_result"
    }
   ],
   "source": [
    "o = env.reset()\n",
    "env.render()"
   ]
  },
  {
   "cell_type": "code",
   "execution_count": 104,
   "metadata": {
    "ExecuteTime": {
     "end_time": "2019-08-21T19:16:38.262611Z",
     "start_time": "2019-08-21T19:16:38.257285Z"
    }
   },
   "outputs": [
    {
     "name": "stdout",
     "output_type": "stream",
     "text": [
      "Human Controls:\n",
      " left:\t\t\tleft arrow key left\n",
      " right:\t\t\tarrow key right\n",
      " up:\t\t\tarrow key up\n",
      " down:\t\t\tarrow key down\n",
      " tilt clockwise:\tw\n",
      " tilt anti-clockwise:\ts\n",
      " shoot :\tspace\n"
     ]
    }
   ],
   "source": [
    "player1 = h_env.HumanOpponent(env=env, player=1)\n",
    "player2 = h_env.BasicOpponent(keep_mode=True)"
   ]
  },
  {
   "cell_type": "code",
   "execution_count": 105,
   "metadata": {
    "ExecuteTime": {
     "end_time": "2019-08-21T19:17:37.603826Z",
     "start_time": "2019-08-21T19:17:34.793733Z"
    },
    "scrolled": false
   },
   "outputs": [
    {
     "name": "stdout",
     "output_type": "stream",
     "text": [
      "[-3.         -0.         -0.          1.         -0.         -0.\n",
      " -0.          3.         -0.         -0.          1.         -0.\n",
      " -0.         -0.          1.93011808 -0.16448498 -0.         -0.\n",
      "  0.          0.        ]\n",
      "[-2.96275997 -0.0001421  -0.00384638  0.9999926   1.86206889 -0.03062823\n",
      " -0.19231956  3.         -0.         -0.          1.         -0.\n",
      " -0.         -0.          1.93011808 -0.16448498 -0.         -0.\n",
      "  0.          0.        ]\n",
      "[-2.89200115 -0.00131416 -0.00377744  0.99999287  3.53793073 -0.05816719\n",
      "  0.00344732  3.         -0.         -0.          1.         -0.\n",
      " -0.         -0.          1.93011808 -0.16448498 -0.         -0.\n",
      "  0.          0.        ]\n",
      "[-2.79107857 -0.00267553 -0.00617366  0.99998094  5.04620647 -0.082734\n",
      " -0.11981278  3.         -0.         -0.          1.         -0.\n",
      " -0.         -0.          1.93011808 -0.16448498 -0.         -0.\n",
      "  0.          0.        ]\n",
      "[-2.66300535 -0.00474977 -0.00631801  0.99998004  6.40365458 -0.10459062\n",
      " -0.00721742  3.         -0.         -0.          1.         -0.\n",
      " -0.         -0.          1.93011808 -0.16448498 -0.         -0.\n",
      "  0.          0.        ]\n",
      "[-2.51050091 -0.00686359 -0.00929077  0.99995684  7.62535763 -0.12387535\n",
      " -0.14864275  3.         -0.         -0.          1.         -0.\n",
      " -0.         -0.          1.93011808 -0.16448498 -0.         -0.\n",
      "  0.          0.        ]\n",
      "[-2.3360014  -0.00989532 -0.00753269  0.99997163  8.72488976 -0.140838\n",
      "  0.08790726  3.         -0.         -0.          1.         -0.\n",
      " -0.         -0.          1.93011808 -0.16448498 -0.         -0.\n",
      "  0.          0.        ]\n",
      "[-2.14171267 -0.01294374 -0.00804356  0.99996765  9.71446991 -0.15553986\n",
      " -0.02554458  3.         -0.         -0.          1.         -0.\n",
      " -0.         -0.          1.93011808 -0.16448498 -0.         -0.\n",
      "  0.          0.        ]\n",
      "[-1.92960691 -0.01714849 -0.00117443  0.99999931 10.60509205 -0.16820389\n",
      "  0.34346116  2.96275878 -0.         -0.          1.         -1.86206865\n",
      " -0.         -0.          1.93011808 -0.16448498 -0.         -0.\n",
      "  0.          0.        ]\n",
      "[-1.80234623 -0.01902246 -0.00235467  0.99999723  6.36305571 -0.10092234\n",
      " -0.05901246  2.92924142 -0.         -0.          1.         -1.67586172\n",
      " -0.         -0.          1.93011808 -0.16448498 -0.         -0.\n",
      "  0.          0.        ]\n",
      "[-1.65056944 -0.02143717 -0.00189396  0.99999821  7.58881903 -0.11791622\n",
      "  0.02303561  2.89907598 -0.         -0.          1.         -1.50827551\n",
      " -0.         -0.          1.93011808 -0.16448498 -0.         -0.\n",
      "  0.          0.        ]\n",
      "[-1.47672939 -0.02454948  0.00184196  0.9999983   8.69200611 -0.13276108\n",
      "  0.18679641  2.87192702 -0.         -0.          1.         -1.35744786\n",
      " -0.         -0.          1.93011808 -0.16448498 -0.         -0.\n",
      "  0.          0.        ]\n",
      "[-1.28303194 -0.02727365  0.00031797  0.99999995  9.68487358 -0.14554192\n",
      " -0.07619973  2.84749293 -0.         -0.          1.         -1.22170305\n",
      " -0.         -0.          1.93011808 -0.16448498 -0.         -0.\n",
      "  0.          0.        ]\n",
      "[-1.07146406 -0.03099823  0.00517169  0.99998663 10.57845497 -0.15653741\n",
      "  0.24268724  2.8255024  -0.         -0.          1.         -1.09953272\n",
      " -0.         -0.          1.93011808 -0.16448498 -0.         -0.\n",
      "  0.          0.        ]\n",
      "[-0.9445219  -0.03278208  0.00439944  0.99999032  6.34707308 -0.09392245\n",
      " -0.03861312  2.80571079 -0.         -0.          1.         -0.98957944\n",
      " -0.         -0.          1.93011808 -0.16448498 -0.         -0.\n",
      "  0.          0.        ]\n",
      "[-0.7930336  -0.03496552  0.0044194   0.99999023  7.57443428 -0.10905419\n",
      "  0.00099804  2.7878983  -0.         -0.          1.         -0.89062148\n",
      " -0.         -0.          1.93011808 -0.16448498 -0.         -0.\n",
      "  0.          0.        ]\n",
      "[-0.61945391 -0.03769112  0.00670798  0.9999775   8.67905998 -0.12226619\n",
      "  0.11443101  2.77186704 -0.         -0.          1.         -0.80155933\n",
      " -0.         -0.          1.93011808 -0.16448498 -0.         -0.\n",
      "  0.          0.        ]\n",
      "[-0.42599392 -0.04085398  0.01071198  0.99994263  9.6732235  -0.13364945\n",
      "  0.20020753  2.72019768 -0.         -0.          1.         -2.58347201\n",
      " -0.         -0.          1.93011808 -0.16448498 -0.         -0.\n",
      "  0.          0.        ]\n",
      "[-0.49262428 -0.04280758  0.01106148  0.99993882 -3.33149362 -0.09553697\n",
      "  0.01747601  2.63645387 -0.         -0.          1.         -4.18719339\n",
      " -0.         -0.          1.93011808 -0.16448498 -0.         -0.\n",
      "  0.          0.        ]\n",
      "[-0.55230284 -0.04478312  0.0153681   0.9998819  -2.98360133 -0.07242697\n",
      "  0.21535026  2.52384305 -0.         -0.          1.         -5.63054276\n",
      " -0.         -0.          1.93011808 -0.16448498 -0.         -0.\n",
      "  0.          0.        ]\n",
      "[-0.5687685  -0.04666519  0.01645126  0.99986467 -0.82317227 -0.08747358\n",
      "  0.05416489  2.385252   -0.         -0.          1.         -6.92955685\n",
      " -0.         -0.          1.93011808 -0.16448498 -0.         -0.\n",
      "  0.          0.        ]\n",
      "[-0.54635191 -0.04911137  0.01998722  0.99980024  1.12121379 -0.10066507\n",
      "  0.17682737  2.26051998 -0.         -0.          1.         -6.23660088\n",
      " -0.         -0.          1.93011808 -0.16448498 -0.         -0.\n",
      "  0.          0.        ]\n",
      "[-0.48893023 -0.05141735  0.02051596  0.99978953  2.87116122 -0.11208192\n",
      "  0.0264425   2.14826107 -0.         -0.          1.         -5.61294079\n",
      " -0.         -0.          1.93011808 -0.16448498 -0.         -0.\n",
      "  0.          0.        ]\n",
      "[-0.50653791 -0.05301428  0.02028008  0.99979434 -0.88041818 -0.08128513\n",
      " -0.01179643  2.05067945 -0.00106716 -0.00882608  0.99996105 -4.88063669\n",
      "  0.00064843 -0.43800005  1.73649144 -0.16522646 -9.60765648 -0.03642973\n",
      " 15.          0.        ]\n",
      "[ -0.48515415  -0.05538416   0.02402733   0.9997113    1.06969249\n",
      "  -0.09557476   0.18740833   1.96284127  -0.00208426  -0.01723494\n",
      "   0.99985147  -4.39257288   0.00058358  -0.42048004   1.35378766\n",
      "  -0.0063448  -34.84458923  -0.26386982   0.           0.        ]\n",
      "[ -0.49178982  -0.05631828   0.03199259   0.99948811  -0.33043608\n",
      "   0.00203923   0.39842066   1.88379598  -0.00306177  -0.02530631\n",
      "   0.99967974  -3.9533155    0.00052522  -0.40366083   0.79627419\n",
      "  -0.01056671 -27.87567139  -0.21109585   0.           0.        ]\n",
      "[ -0.49771023  -0.05640364   0.03326897   0.99944643  -0.29576474\n",
      "   0.00352554   0.06385271   1.81266403  -0.00400019  -0.03305328\n",
      "   0.99945359  -3.55798388   0.0004727   -0.38751438   0.3502636\n",
      "  -0.01394415 -22.30053711  -0.16887669   0.           0.        ]\n",
      "[ -0.50305653  -0.05711746   0.04001593   0.99919904  -0.26578194\n",
      "   0.00560624   0.33757517   1.74865389  -0.00490141  -0.04048851\n",
      "   0.99918     -3.20218539   0.00042543  -0.37201381  -0.00654507\n",
      "  -0.01664639 -17.84042931  -0.13510136   0.           0.        ]\n",
      "[ -0.49493074  -0.05821133   0.05080814   0.99870843   0.4092724\n",
      "   0.0113284    0.54017043   1.69105291  -0.00576687  -0.04762422\n",
      "   0.99886532  -2.88196683   0.00038289  -0.35713324  -0.36299706\n",
      "  -0.01934576 -17.82258987  -0.13496627   0.           0.        ]\n",
      "[-0.50952005 -0.05860233  0.05914096  0.99824964 -0.7266528   0.03145824\n",
      "  0.41727325  1.63922048 -0.006598   -0.05447222  0.99851529 -2.59377003\n",
      "  0.0003446  -0.34284791 -0.04195976 -0.04459047 16.05187225 -1.2622292\n",
      "  0.         15.        ]\n",
      "[-0.56471157 -0.05736828  0.0577696   0.99832994 -2.5160563   0.03922458\n",
      " -0.0619998   1.59257913 -0.00739622 -0.0610439   0.99813508 -2.33439302\n",
      "  0.00031014 -0.32913399 -0.2499094  -0.07385683 -0.7259239   0.03142667\n",
      "  0.         14.        ]\n",
      "opp shoot\n",
      "[-0.62125778 -0.05442095  0.04914274  0.99879177 -2.83014655  0.09457611\n",
      " -0.43196219  1.55060959 -0.0081625  -0.06735023  0.9977294  -2.10095358\n",
      "  0.00027913 -0.31596863 -0.03918743 -0.0918026  26.27621651 -1.72171021\n",
      "  0.          0.        ]\n",
      "[-0.70944262 -0.05253315  0.04928316  0.99878485 -4.40920067  0.09525205\n",
      "  0.00702936  1.5128448  -0.00889778 -0.07340178  0.99730245 -1.89085817\n",
      "  0.00025121 -0.30332989  0.38123226 -0.11934996 21.02097321 -1.37736821\n",
      "  0.          0.        ]\n",
      "[-0.82604742 -0.05057716  0.0489082   0.99880328 -5.83034945  0.09550888\n",
      " -0.01877065  1.47886372 -0.00960398 -0.07920872  0.99685805 -1.70177233\n",
      "  0.00022609 -0.29119667  0.71756792 -0.14138794 16.81677818 -1.10189462\n",
      "  0.          0.        ]\n",
      "[-0.96822977 -0.04856396  0.04804233  0.9988453  -7.10938311  0.09537581\n",
      " -0.04334434  1.44828773 -0.01028204 -0.08478086  0.99639962 -1.53159511\n",
      "  0.00020348 -0.27954879  1.05356717 -0.16340399 16.79996109 -1.10079277\n",
      "  0.          0.        ]\n"
     ]
    },
    {
     "name": "stdout",
     "output_type": "stream",
     "text": [
      "[-1.13343239 -0.04650354  0.0467141   0.9989083  -8.26051331  0.09488116\n",
      " -0.0664864   1.42077637 -0.01093245 -0.09012763  0.99593022 -1.37843561\n",
      "  0.00018313 -0.26836684  1.38923049 -0.18539762 16.78316116 -1.09969199\n",
      "  0.          0.        ]\n",
      "[ -1.31936121  -0.04457521   0.04633073   0.99892616  -9.29653072\n",
      "   0.09405233  -0.01918905   1.40853381  -0.01529408  -0.12833276\n",
      "   0.99173117  -0.63782132   0.01569278  -1.92187786   1.04726291\n",
      "  -0.22481728 -17.09838104  -1.97098172  15.           0.        ]\n",
      "[-1.44946384 -0.04543781  0.04748963  0.99887173 -6.50480843 -0.03602432\n",
      "  0.05800868  1.40311146 -0.01852703 -0.16443416  0.98638806 -0.57403916\n",
      "  0.0141235  -1.84500277  1.09218001 -0.06566286 -0.63718259  0.01567742\n",
      " 14.          0.        ]\n",
      "opp shoot\n",
      "[ -1.52933979  -0.04677343   0.05261219   0.99861502  -3.99225855\n",
      "  -0.03544594   0.25644976   1.39356709  -0.0225358   -0.19926555\n",
      "   0.97994553  -0.51663524   0.01271115  -1.77120256   0.79291821\n",
      "   0.01022053 -30.50965118   1.43737352  13.           0.        ]\n",
      "opp shoot\n",
      "[ -1.56402206  -0.04705238   0.06157446   0.99810249  -1.73096371\n",
      "   0.04088501   0.44884703   1.38516593  -0.02637005  -0.23246901\n",
      "   0.9726038   -0.46497169   0.01144003  -1.70035446   0.90596581\n",
      "   0.00292134 -24.38006783   1.27286136  12.           0.        ]\n",
      "opp shoot\n",
      "[ -1.55792236  -0.04470158   0.05946938   0.99823013   0.30420154\n",
      "   0.10465649  -0.10544732   1.37778854  -0.03003407  -0.26409191\n",
      "   0.96449752  -0.41847453   0.01029603  -1.63234019   0.89863729\n",
      "   0.00336885 -24.326437     1.48693919  11.           0.        ]\n",
      "opp shoot\n",
      "[ -1.5152359   -0.04176855   0.06347247   0.99798359   2.13585019\n",
      "   0.17117171   0.20053376   1.37132668  -0.03353119  -0.29418551\n",
      "   0.95574834  -0.37662706   0.00926643  -1.56704652   0.8919425\n",
      "  -0.00132418 -24.29230309   1.43550169  10.           0.        ]\n",
      "opp shoot\n",
      "[ -1.43963623  -0.03851509   0.07381372   0.99727205   3.78433418\n",
      "   0.22593857   0.51828718   1.36568332  -0.03686666  -0.32280391\n",
      "   0.94646587  -0.33896434   0.00833978  -1.50436461   0.88626862\n",
      "  -0.00291634 -24.25290871   1.5307523    9.           0.        ]\n",
      "opp shoot\n",
      "[ -1.33444405  -0.03501987   0.09040731   0.99590487   5.26796961\n",
      "   0.27627802   0.83250082   1.36077118  -0.04004478  -0.35000298\n",
      "   0.93674859  -0.3050679    0.00750581  -1.44419003   0.88156939\n",
      "  -0.00130272 -24.20570183   1.7782011    8.           0.        ]\n",
      "opp shoot\n",
      "[ -1.2024188   -0.02888393   0.09392114   0.99557964   6.60324144\n",
      "   0.32831222   0.17644249   1.35651135  -0.04307127  -0.37583968\n",
      "   0.9266847   -0.27456111   0.00675522  -1.3864224    0.87785578\n",
      "   0.0034709  -24.14577103   2.17578006   7.           0.        ]\n",
      "opp shoot\n",
      "[ -1.04632568  -0.02123737   0.09449017   0.99552579   7.804986\n",
      "   0.3857972    0.02857839   1.35283351  -0.04595184  -0.40037133\n",
      "   0.91635299  -0.24710499   0.0060797   -1.33096552   0.87423992\n",
      "   0.00211906 -24.11355972   2.25951147   6.           0.        ]\n",
      "opp shoot\n",
      "[ -0.86861038  -0.01275492   0.09583668   0.99539707   8.88655567\n",
      "   0.43237779   0.06763242   1.312433    -0.04869175  -0.42365504\n",
      "   0.90582361  -2.08446312   0.00547173  -1.27772689   0.87102747\n",
      "  -0.00049925 -24.09030533   2.27262807   5.           0.        ]\n",
      "opp shoot\n",
      "[ -0.67251158  -0.00320482   0.09380444   0.99559064   9.80377007\n",
      "   0.4650417   -0.10207161   1.2762177   -0.05129719  -0.44574731\n",
      "   0.89515883  -1.87601674   0.00492456  -1.22661781   0.80129099\n",
      "  -0.00260258 -25.5571022    2.30445766   4.           0.        ]\n",
      "opp shoot\n",
      "[ -0.46482515   0.00698853   0.08926367   0.99600803  10.3817606\n",
      "   0.48189139  -0.22799604   1.20652294  -0.05377293  -0.46670368\n",
      "   0.88441375  -3.5504837    0.0044321   -1.17755306   0.76831818\n",
      "  -0.00619221 -25.39498711   2.25524592   3.           0.        ]\n",
      "opp shoot\n",
      "[ -0.531528     0.01309466   0.09199481   0.99575949  -3.33363366\n",
      "   0.32202387   0.13712108   1.14393306  -0.05612516  -0.48657843\n",
      "   0.8736369   -3.19543529   0.00398889  -1.13045096   0.67163134\n",
      "  -0.01085567 -26.74458122   2.14587379   2.           0.        ]\n",
      "opp shoot\n",
      "[ -0.56552172   0.01857448   0.10171261   0.99481382  -1.69388056\n",
      "   0.33344668   0.4881871    1.08773279  -0.05835962  -0.50542434\n",
      "   0.86287093  -2.87589169   0.00359     -1.08523285   0.19549561\n",
      "  -0.24546146 -47.42186356  -9.46681499   0.           0.        ]\n",
      "[ -0.57812309   0.02069092   0.10222288   0.99476152  -0.62975222\n",
      "   0.10894076   0.02564712   1.03727818  -0.06048155  -0.52329251\n",
      "   0.85215313  -2.58830237   0.003231    -1.04182351  -0.56325436\n",
      "  -0.39693069 -37.93749237  -7.573452     0.           0.        ]\n",
      "[ -0.58538818   0.02061176   0.09943772   0.99504379  -0.36672679\n",
      "  -0.03864885  -0.25278562   0.99199057  -0.06249666  -0.54023232\n",
      "   0.84151592  -2.32947206   0.0029079   -1.00015056  -1.17220879\n",
      "  -0.53793859 -30.34999466  -6.0587616    0.          15.        ]\n",
      "[-0.63402224  0.01844382  0.09835678  0.99515122 -2.19212294 -0.13878989\n",
      " -0.03254851  0.9513483  -0.06440926 -0.55629126  0.83098738 -2.09652472\n",
      "  0.00261711 -0.96014452 -0.32131386 -0.00675249 -0.29338142 -0.03091908\n",
      "  0.         14.        ]\n",
      "[-0.66963577  0.01651049  0.0968729   0.99529676 -1.50794744 -0.13239425\n",
      " -0.0631924   0.91488314 -0.06622505 -0.57151493  0.82059167 -1.88687217\n",
      "  0.0023554  -0.92173874 -0.35643911 -0.01136065 -1.49406755  0.00803958\n",
      "  0.         13.        ]\n",
      "opp shoot\n",
      "[-0.70799637  0.01598334  0.09671434  0.99531218 -1.91812766 -0.02732376\n",
      " -0.00796549  0.88217306 -0.06794882 -0.58594701  0.81034937 -1.69818497\n",
      "  0.00211986 -0.88486916 -0.12913561 -0.0370326  27.02500343 -2.67714429\n",
      "  0.          0.        ]\n",
      "[-0.77975082  0.01557279  0.09556402  0.99542329 -3.58838367 -0.02756759\n",
      " -0.05778367  0.85283852 -0.06958485 -0.59962919  0.80027797 -1.52836645\n",
      "  0.00190787 -0.84947437  0.30326462 -0.07986689 21.62000275 -2.14171553\n",
      "  0.          0.        ]\n",
      "[-0.8815589   0.01527429  0.0934732   0.9956218  -5.09161425 -0.02771059\n",
      " -0.10501096  0.82653761 -0.07113838 -0.61260133  0.79039206 -1.37552977\n",
      "  0.00171709 -0.81549537  0.6491847  -0.11413431 17.29600334 -1.71337247\n",
      "  0.          0.        ]\n",
      "[ -1.01043987   0.01481748   0.09266558   0.99569729  -6.44452143\n",
      "  -0.02778371  -0.04055673   0.81138754  -0.06831503  -0.62086943\n",
      "   0.783914    -0.79713231   0.19175193  -0.52518487   0.49940968\n",
      "  -0.36209059  -7.48873949 -12.39781094  15.           0.        ]\n",
      "[-1.09458351  0.00593853  0.09095002  0.99585546 -4.20814037 -0.45444205\n",
      " -0.08614205  0.80205679 -0.06236029 -0.62857592  0.77774824 -0.71741915\n",
      "  0.17257671 -0.50417745  0.55595303 -0.25810146 -0.79633379  0.1915592\n",
      " 14.          0.        ]\n",
      "opp shoot\n",
      "[ -1.13586807  -0.00306368   0.09061041   0.99588642  -2.06441307\n",
      "  -0.45220166  -0.01705116   0.7898922   -0.0601716   -0.63607512\n",
      "   0.77162714  -0.64567721   0.15531904  -0.48401034   0.19080687\n",
      "  -0.00439692 -30.56249046   2.89817619  13.           0.        ]\n",
      "opp shoot\n",
      "[ -1.14455414  -0.00926304   0.08641674   0.99625908  -0.43658465\n",
      "  -0.33563429  -0.21050955   0.77899742  -0.05825043  -0.64321829\n",
      "   0.76568285  -0.58110946   0.13978712  -0.46464992   0.30153608\n",
      "  -0.01419353 -24.41781425   2.29890513  12.           0.        ]\n",
      "opp shoot\n",
      "[ -1.12177038  -0.01418734   0.08725371   0.99618612   1.13964057\n",
      "  -0.24108553   0.04200667   0.76924372  -0.05656672  -0.65002347\n",
      "   0.75991414  -0.52299851   0.1258084   -0.44606391   0.29149532\n",
      "  -0.014534   -24.3751049    2.18583179  11.           0.        ]\n",
      "opp shoot\n",
      "[ -1.07116985  -0.01683044   0.08278014   0.99656783   2.5276823\n",
      "  -0.15951921  -0.22449122   0.76051426  -0.05509567  -0.65650777\n",
      "   0.75431927  -0.47069865   0.11322756  -0.42822134   0.28270626\n",
      "  -0.01267195 -24.32686806   2.19473529  10.           0.        ]\n",
      "opp shoot\n",
      "[ -0.99675179  -0.01875305   0.08419911   0.99644895   3.72162628\n",
      "  -0.08746317   0.07119711   0.7527051   -0.05381393  -0.66268742\n",
      "   0.74889611  -0.42362878   0.1019048   -0.41109249   0.27463055\n",
      "  -0.0135498  -24.29418755   2.07730532   9.           0.        ]\n",
      "opp shoot\n",
      "[ -0.90231371  -0.01870298   0.07912186   0.99686495   4.71937132\n",
      "  -0.0285694   -0.25471357   0.74572325  -0.05270052  -0.66857772\n",
      "   0.74364227  -0.38126588   0.09171432  -0.39464879   0.26763153\n",
      "  -0.01176786 -24.25367355   2.10230231   8.           0.        ]\n"
     ]
    },
    {
     "name": "stdout",
     "output_type": "stream",
     "text": [
      "opp shoot\n",
      "[ -0.7918644   -0.01838303   0.0800043    0.99679452   5.52290058\n",
      "   0.02137875   0.04426257   0.73948288  -0.05173683  -0.67419323\n",
      "   0.738555    -0.34313929   0.08254289  -0.37886283   0.26112795\n",
      "  -0.01325464 -24.22977066   1.97229612   7.           0.        ]\n",
      "opp shoot\n",
      "[ -0.66906357  -0.01646852   0.07397941   0.99725977   6.13718939\n",
      "   0.05886796  -0.30214205   0.73390913  -0.05090618  -0.67954771\n",
      "   0.73363132  -0.30882534   0.0742886   -0.36370832   0.25553131\n",
      "  -0.01201391 -24.19758034   1.98613763   6.           0.        ]\n",
      "opp shoot\n",
      "[ -0.53764915  -0.01464605   0.07346861   0.99729753   6.57050705\n",
      "   0.08800557  -0.02560944   0.72893286  -0.05019379  -0.68465421\n",
      "   0.72886804  -0.27794281   0.06685974  -0.34915999   0.25028324\n",
      "  -0.01420736 -24.18129539   1.8349365    5.           0.        ]\n",
      "opp shoot\n",
      "[ -0.40098333  -0.01251936   0.07344802   0.99729905   6.83325529\n",
      "   0.1062086   -0.00103263   0.7244935   -0.0495863   -0.68952501\n",
      "   0.72426187  -0.2501485    0.06017376  -0.33519357   0.24578285\n",
      "  -0.01385927 -24.15749168   1.81673455   4.           0.        ]\n",
      "opp shoot\n",
      "[ -0.45009661  -0.01087809   0.07280889   0.99734591  -2.45593977\n",
      "   0.0781451   -0.03204212   0.72053719  -0.04906464  -0.69414673\n",
      "   0.71983354  -0.22513364   0.05415639  -0.32178584   0.24153566\n",
      "  -0.01361132 -24.13529778   1.81089139   3.           0.        ]\n",
      "opp shoot\n",
      "[ -0.49281979  -0.0094595    0.07136543   0.99745024  -2.13681006\n",
      "   0.0620958   -0.0723614    0.71701384  -0.04861736  -0.69852929\n",
      "   0.71558146  -0.20262027   0.04874074  -0.30891439   0.23769522\n",
      "  -0.01375198 -24.11640739   1.79073846   2.           0.        ]\n",
      "opp shoot\n",
      "[ -0.53106642  -0.00794125   0.0676147    0.99771151  -1.91392338\n",
      "   0.05296415  -0.18799089   0.71387529  -0.04825783  -0.70276119\n",
      "   0.71142583  -0.18235824   0.04386667  -0.29655781  -0.10848331\n",
      "  -0.348876   -41.27485275 -15.01293945   0.           0.        ]\n",
      "[ -0.55386686  -0.0103941    0.06026841   0.99818221  -1.14288473\n",
      "  -0.16760373  -0.36806893   0.71108389  -0.04796219  -0.70680058\n",
      "   0.70741285  -0.1641224    0.03948     -0.28469551  -0.76888084\n",
      "  -0.58908319 -33.0198822  -12.01035213   0.           0.        ]\n",
      "[ -0.61167908  -0.01555729   0.06019771   0.99818647  -2.89066505\n",
      "  -0.25859925  -0.0035414    0.70860386  -0.04772329  -0.71065683\n",
      "   0.70353882  -0.14771016   0.035532    -0.27330768  -1.29719877\n",
      "  -0.78124905 -26.41590691  -9.60828209   0.          15.        ]\n",
      "[-0.70567608 -0.02264595  0.05907933  0.99825329 -4.46366739 -0.37531641\n",
      " -0.03457636  0.7064023  -0.04753447 -0.71433887  0.69979995 -0.13293914\n",
      "  0.0319788  -0.26237535 -0.39207172 -0.0354929  -2.31253219 -0.20687941\n",
      "  0.         14.        ]\n",
      "[-0.78222799 -0.02155542  0.05320911  0.99858339 -3.55504918  0.00402643\n",
      " -0.31027225  0.70445108 -0.04738903 -0.71785511  0.69619253 -0.11964523\n",
      "  0.02878092 -0.25188035 -0.46844912 -0.04201126 -3.56410837 -0.14908819\n",
      "  0.         13.        ]\n",
      "[-0.8423686  -0.01993704  0.04103451  0.99915773 -2.73592615 -0.00486658\n",
      " -0.5966267   0.7027235  -0.04728222 -0.72121355  0.6927128  -0.10768071\n",
      "  0.02590283 -0.24180512 -0.52808905 -0.02991343 -2.72405744  0.21798567\n",
      "  0.         12.        ]\n",
      "opp shoot\n",
      "[-0.90301943 -0.02028656  0.04447245  0.99901061 -3.03162718  0.00355935\n",
      "  0.17205419  0.70119572 -0.04720831 -0.7244218   0.68935699 -0.09691264\n",
      "  0.02331254 -0.23213291 -0.31823778 -0.00501204 26.20654106  0.74623841\n",
      "  0.          0.        ]\n",
      "opp shoot\n",
      "[-0.99482632 -0.02005911  0.04375392  0.99904234 -4.59053326  0.00698091\n",
      " -0.03596137  0.6998477  -0.04716396 -0.72748701  0.68612145 -0.08722137\n",
      "  0.02098129 -0.2228476  -0.37845802  0.02827454 -3.01102304  1.66432941\n",
      "  0.          0.        ]\n",
      "opp shoot\n",
      "[ -1.06227303  -0.01978111   0.04711438   0.9988895   -3.37141275\n",
      "   0.03444336   0.16819708   0.69865942  -0.04714441  -0.73041602\n",
      "   0.68300251  -0.07849923   0.01888316  -0.21393369  -1.03744411\n",
      "   0.08775401 -32.94931412   2.97396994   0.           0.        ]\n",
      "opp shoot\n",
      "[-1.11909914 -0.01189756  0.00160752  0.99999871 -2.84811187  0.11575177\n",
      " -2.27621555  0.69761467 -0.04714727 -0.73321531  0.67999655 -0.0706493\n",
      "  0.01699484 -0.20537634 -0.16098785  0.09208798 43.82282639  0.2166958\n",
      "  0.         15.        ]\n",
      "opp shoot\n",
      "[-1.22251225 -0.01222038 -0.00011564  0.99999999 -5.17064571 -0.02670866\n",
      " -0.08615819  0.69669724 -0.04716873 -0.73589097  0.67710005 -0.06358437\n",
      "  0.01529536 -0.19716129 -0.80724907  0.01918983 15.59250641  1.55436718\n",
      "  0.          0.        ]\n",
      "opp shoot\n",
      "[ -1.35282516  -0.01267195   0.00001511   1.          -6.5156498\n",
      "  -0.02176227   0.00653734   0.69589424  -0.0472064   -0.73844885\n",
      "   0.6743095   -0.05722594   0.01376582  -0.18927483  -1.09511089\n",
      "   0.05017686 -14.39308643   1.54934704   0.           0.        ]\n",
      "opp shoot\n",
      "[-1.46039677 -0.00995207 -0.02728761  0.99962762 -5.37629318 -0.03107478\n",
      " -1.36530542  0.69519329 -0.0472579  -0.74089447  0.67162146 -0.05150334\n",
      "  0.01238924 -0.18170384 -0.43789673  0.11579967 32.86071396  3.28114367\n",
      "  0.         15.        ]\n",
      "opp shoot\n",
      "[-1.60912228 -0.01149654 -0.024634    0.99969654 -7.43669271 -0.06098912\n",
      "  0.13272561  0.69458294 -0.04732132 -0.74323306  0.6690326  -0.046353\n",
      "  0.01115032 -0.17443568 -1.19928741  0.01563954 13.05546188  1.27957642\n",
      "  0.          0.        ]\n",
      "opp shoot\n",
      "[ -1.77819204  -0.01255798  -0.02457855   0.9996979   -8.45349503\n",
      "  -0.05274947   0.00277315   0.69405365  -0.04739428  -0.7454696\n",
      "   0.66653963  -0.0417177    0.01003528  -0.16745825  -1.53765726\n",
      "   0.02643991 -16.91849899   0.54001588   0.           0.        ]\n",
      "opp shoot\n",
      "[-1.9211812  -0.01256752 -0.03864493  0.99925301 -7.14673424 -0.08654927\n",
      " -0.70367628  0.69359636 -0.04747534 -0.7476088   0.66413936 -0.03754593\n",
      "  0.00903175 -0.16075991 -0.90107727  0.07731557 31.82898712  2.54378295\n",
      "  0.         15.        ]\n",
      "opp shoot\n",
      "[-2.09407568 -0.01502419 -0.0370045   0.9993151  -8.64510059 -0.11279661\n",
      "  0.08208031  0.69320345 -0.04756308 -0.74965514  0.66182866 -0.03379134\n",
      "  0.00812858 -0.15432951 -1.68018913  0.00934505 12.04960155  1.09562957\n",
      "  0.          0.        ]\n",
      "opp shoot\n",
      "[ -2.27586555  -0.01703072  -0.03674494   0.99932468  -9.08955479\n",
      "  -0.09871934   0.01298666   0.69286728  -0.04765606  -0.75161293\n",
      "   0.65960443  -0.03041221   0.00731572  -0.14815633  -2.03842735\n",
      "   0.00905514 -17.91192245  -0.01449088   0.           0.        ]\n",
      "[-2.41012049 -0.01894426 -0.03830279  0.99926618 -6.71238804 -0.10521461\n",
      " -0.07794743  0.69258213 -0.04775381 -0.75348618  0.65746375 -0.02737099\n",
      "  0.00658415 -0.14223008 -1.95375443  0.03254199  4.23364305  1.17433763\n",
      "  0.         15.        ]\n",
      "opp shoot\n",
      "[-2.57141876 -0.02170753 -0.037691    0.99928944 -8.06506252 -0.13441184\n",
      "  0.03061174  0.69234133 -0.0478549  -0.7552788   0.65540364 -0.02463389\n",
      "  0.00592573 -0.13654087 -2.00922203  0.00458789 20.04491615  1.1766088\n",
      "  0.          0.        ]\n",
      "opp shoot\n",
      "[-2.73387909 -0.02408791 -0.037347    0.99930236 -8.12309647 -0.11692856\n",
      "  0.0172117   0.72938204 -0.04795837 -0.7569944   0.65342136  1.83989811\n",
      "  0.00533316 -0.13107924 -2.16816235  0.00532198 -7.94701529  0.03670311\n",
      "  0.          0.        ]\n",
      "opp shoot\n",
      "[ -2.84288406  -0.02531672  -0.04354882   0.9990513   -5.44871759\n",
      "  -0.09937223  -0.31034523   0.79997492  -0.0480628   -0.7586365\n",
      "   0.65151413   3.517977     0.00479984  -0.12583607  -2.92592525\n",
      "  -0.01633072 -37.88815689  -1.08262324   0.           0.        ]\n",
      "[-2.97011566 -0.02742338 -0.04599709  0.99894157 -6.36091232 -0.12033401\n",
      " -0.12253679  0.90076447 -0.04816914 -0.76020839  0.64967931  5.02824783\n",
      "  0.00431986 -0.12080263 -2.58236122  0.00294662 17.17820168  0.96387011\n",
      "  0.         15.        ]\n",
      "opp shoot\n",
      "[-3.06947994 -0.03063679 -0.04528936  0.99897391 -4.96841955 -0.15632688\n",
      "  0.03542375  1.02873063 -0.04827547 -0.76171321  0.64791434  6.38749123\n",
      "  0.00388787 -0.11597051 -2.4536047   0.0023036  25.82556152  1.48634434\n",
      "  0.          0.        ]\n",
      "opp shoot\n",
      "[-3.12166691 -0.03338766 -0.04487406  0.99899265 -2.60950875 -0.13498941\n",
      "  0.02078616  1.14391303 -0.04838181 -0.763154    0.64621667  5.7487421\n",
      "  0.00349909 -0.11133169 -2.51990318  0.00434613 -3.31492305  0.10213108\n",
      "  0.          0.        ]\n",
      "opp shoot\n",
      "[ -3.15375042  -0.03479958  -0.05185623   0.99865456  -1.60208809\n",
      "  -0.11331752  -0.34951854   1.21034884  -0.04848766  -0.76453357\n",
      "   0.64458392   3.31179905   0.00314918  -0.10687842  -3.18493176\n",
      "  -0.02051067 -33.25142288  -1.24284649   0.           0.        ]\n"
     ]
    },
    {
     "name": "stdout",
     "output_type": "stream",
     "text": [
      "[-3.20598507 -0.03719902 -0.05506065  0.99848301 -2.61069369 -0.13959233\n",
      " -0.16045032  1.27015328 -0.04859257 -0.76585469  0.64301369  2.98061895\n",
      "  0.00283426 -0.10260329 -2.76585865  0.00484943 20.95365334  1.26801085\n",
      "  0.         15.        ]\n",
      "opp shoot\n",
      "[-3.27442074 -0.04064703 -0.05416141  0.99853219 -3.42213964 -0.16688944\n",
      "  0.04502916  1.32398915 -0.04869652 -0.76711993  0.64150371  2.68255711\n",
      "  0.00255083 -0.09849916 -2.82949257 -0.01172113 18.82462311  1.27388322\n",
      "  0.          0.        ]\n",
      "opp shoot\n",
      "[-3.29877472 -0.04355955 -0.05366889  0.99855879 -1.21785676 -0.14263174\n",
      "  0.02466181  1.37245274 -0.04879856 -0.76833177  0.64005179  2.4143014\n",
      "  0.00229575 -0.09455919 -3.00759411 -0.01733637 -8.90507507 -0.28076705\n",
      "  0.          0.        ]\n",
      "[-3.31712532 -0.04732561 -0.04627281  0.99892884 -0.91981351 -0.14303097\n",
      "  0.37026715  1.41608119 -0.04889965 -0.76949255  0.63865579  2.17287111\n",
      "  0.00206617 -0.09077682 -2.86972141 -0.00270176  6.89364672  0.7317341\n",
      "  0.         15.        ]\n",
      "opp shoot\n",
      "[-3.35745144 -0.05071735 -0.04629302  0.9989279  -2.01624775 -0.1697302\n",
      " -0.00101162  1.45535707 -0.04899836 -0.7706045   0.63731367  1.95558393\n",
      "  0.00185956 -0.08714574 -2.79022741 -0.02194548 26.34490204  1.26899648\n",
      "  0.          0.        ]\n",
      "opp shoot\n",
      "[-3.35885143 -0.05363989 -0.04583355  0.99894909 -0.07014448 -0.14331326\n",
      "  0.02299825  1.4907155  -0.04909515 -0.77166978  0.63602338  1.7600255\n",
      "  0.0016736  -0.08365991 -2.8481946  -0.02386236 -2.89834762 -0.0958354\n",
      "  0.          0.        ]\n",
      "[-3.34685516 -0.05670786 -0.04108877  0.9991555   0.59851593 -0.12434997\n",
      "  0.23746338  1.52254772 -0.04919004 -0.77269042  0.63478304  1.58402288\n",
      "  0.00150624 -0.08031351 -2.90610361 -0.02577734 -2.8954494  -0.09573957\n",
      "  0.          0.        ]\n",
      "[-3.32415771 -0.05869198 -0.04235569  0.9991026   1.13522601 -0.10694317\n",
      " -0.06340095  1.55120611 -0.04928255 -0.77366836  0.63359078  1.42562056\n",
      "  0.00135562 -0.07710097 -2.96395493 -0.02769041 -2.89255404 -0.09564383\n",
      "  0.          0.        ]\n",
      "[-3.29326439 -0.06120586 -0.03670349  0.9993262   1.54327142 -0.09112002\n",
      "  0.28283116  1.57700753 -0.04937315 -0.77460544  0.63244479  1.28305852\n",
      "  0.00122006 -0.07401693 -3.02174854 -0.02960157 -2.88966155 -0.09554818\n",
      "  0.          0.        ]\n",
      "[-3.25992107 -0.06275797 -0.03784974  0.99928344  1.66745698 -0.08460749\n",
      " -0.05735234  1.60023737 -0.04946089 -0.77550346  0.63134332  1.15475261\n",
      "  0.00109805 -0.07105625 -2.89915752 -0.02252388  6.12954521  0.35389397\n",
      "  0.         15.        ]\n",
      "opp shoot\n",
      "[-3.25453472 -0.06490707 -0.03733603  0.99930277  0.26916286 -0.10431258\n",
      "  0.025704    1.6211524  -0.04954672 -0.77636407  0.63028472  1.03927732\n",
      "  0.00098824 -0.06821399 -2.69292021 -0.04235649 28.35003853  1.02006698\n",
      "  0.          0.        ]\n",
      "opp shoot\n",
      "[-3.25425625 -0.06665087 -0.03645652  0.99933524  0.01370995 -0.08179517\n",
      "  0.04400511  1.63998413 -0.04962969 -0.77718889  0.62926738  0.93534958\n",
      "  0.00088942 -0.06548543 -2.71898508 -0.04395676 -1.30323637 -0.08001108\n",
      "  0.          0.        ]\n",
      "[-3.24032784 -0.06779623 -0.03856766  0.99925599  0.69690174 -0.07018805\n",
      " -0.10563125  1.65693998 -0.04971027 -0.77797945  0.62828972  0.84181458\n",
      "  0.00080048 -0.06286602 -2.74502373 -0.04555559 -1.30193317 -0.07993107\n",
      "  0.          0.        ]\n",
      "[-3.2148571  -0.06849432 -0.04262978  0.99909094  1.27456355 -0.05976582\n",
      " -0.20327362  1.67220783 -0.04978895 -0.77873726  0.6273502   0.75763309\n",
      "  0.00072043 -0.06035138 -2.77103615 -0.04715252 -1.30063128 -0.07985114\n",
      "  0.          0.        ]\n",
      "[-3.17993355 -0.06933498 -0.04401051  0.99903107  1.7465266  -0.05047592\n",
      " -0.06910176  1.68595552 -0.04986477 -0.7794637   0.6264474   0.68186975\n",
      "  0.00064839 -0.05793732 -2.79702282 -0.04874802 -1.29933071 -0.0797713\n",
      "  0.          0.        ]\n",
      "[-3.13763618 -0.07031107 -0.04292859  0.99907814  2.11458373 -0.04216449\n",
      "  0.05414738  1.69833517 -0.0499382  -0.78016008  0.62557994  0.61368275\n",
      "  0.00058355 -0.05561982 -2.82298326 -0.05034208 -1.29803145 -0.07969152\n",
      "  0.          0.        ]\n",
      "[-3.09246826 -0.0718565  -0.03691587  0.99931838  2.25693965 -0.04048651\n",
      "  0.30087614  1.70948339 -0.05000973 -0.78082767  0.62474646  0.55231446\n",
      "  0.00052519 -0.05339503 -2.70807552 -0.04542971  5.74539852  0.24562329\n",
      "  0.         15.        ]\n",
      "opp shoot\n",
      "[-3.0794487  -0.07308102 -0.03695515  0.99931693  0.65104836 -0.06145683\n",
      " -0.00196524  1.71952295 -0.05007839 -0.78146775  0.62394563  0.49708301\n",
      "  0.00047267 -0.05125923 -2.52186298 -0.05164623 28.53025818  1.01051962\n",
      "  0.          0.        ]\n",
      "opp shoot\n",
      "[-3.07555866 -0.07395697 -0.03661047  0.99932961  0.19439578 -0.04170296\n",
      "  0.01724536  1.72856474 -0.05014467 -0.78208146  0.62317622  0.4473747\n",
      "  0.00042541 -0.04920886 -2.5450511  -0.05321646 -1.15940094 -0.0785079\n",
      "  0.          0.        ]\n",
      "[-3.05843258 -0.0753932  -0.0305045   0.99953463  0.85508394 -0.03444676\n",
      "  0.30547103  1.73670816 -0.05020905 -0.78266988  0.62243703  0.40263721\n",
      "  0.00038287 -0.0472405  -2.56821585 -0.05478525 -1.15824151 -0.07842939\n",
      "  0.          0.        ]\n",
      "[-3.03015327 -0.07737017 -0.01890533  0.99982128  1.41219091 -0.0278813\n",
      "  0.58013922  1.7440424  -0.05027151 -0.78323411  0.62172689  0.36237347\n",
      "  0.00034458 -0.04535088 -2.59135771 -0.05635214 -1.15708327 -0.07835097\n",
      "  0.          0.        ]\n",
      "[-2.99284077 -0.07770061 -0.01977218  0.99980451  1.8657124  -0.02182038\n",
      " -0.04335073  1.7506485  -0.05033159 -0.78377519  0.62104464  0.32613611\n",
      "  0.00031012 -0.04353685 -2.6144762  -0.05791759 -1.15592623 -0.07827262\n",
      "  0.          0.        ]\n",
      "[-2.94848824 -0.07802868 -0.0197846   0.99980427  2.21761847 -0.01650682\n",
      " -0.00062101  1.75659919 -0.05038929 -0.78429405  0.62038927  0.29352251\n",
      "  0.00027911 -0.04179537 -2.63757181 -0.05948162 -1.15477037 -0.07819435\n",
      "  0.          0.        ]\n",
      "[-2.9015274  -0.0784812  -0.01857438  0.99982748  2.34790492 -0.01520078\n",
      "  0.06052195  1.76195955 -0.05044508 -0.78479163  0.61975971  0.26417026\n",
      "  0.0002512  -0.04012355 -2.52172613 -0.05728579  5.79227924  0.10979661\n",
      "  0.         15.        ]\n",
      "opp shoot\n",
      "[-2.89030743 -0.07886171 -0.01845689  0.99982966  0.56098539 -0.01830566\n",
      "  0.00587542  1.76678848 -0.05049896 -0.78526885  0.61915493  0.23775323\n",
      "  0.00022608 -0.03851861 -2.33597279 -0.0683012  28.27772903  0.50900537\n",
      "  0.          0.        ]\n",
      "opp shoot\n",
      "[-2.89156151 -0.07893467 -0.01815306  0.99983522 -0.06275795 -0.0017905\n",
      "  0.01519406  1.77113914 -0.05055094 -0.78572655  0.618574    0.2139779\n",
      "  0.00020347 -0.03697786 -2.36344719 -0.06901646 -1.37372899 -0.03576107\n",
      "  0.          0.        ]\n",
      "[-2.8791275  -0.07928848 -0.01528381  0.9998832   0.6214174  -0.00011634\n",
      "  0.14348246  1.77505922 -0.05060148 -0.78616551  0.61801601  0.1925801\n",
      "  0.00018312 -0.03549875 -2.39089441 -0.06973076 -1.37235522 -0.03572531\n",
      "  0.          0.        ]\n",
      "[-2.85511589 -0.0801425  -0.0080818   0.99996734  1.20004427  0.00135016\n",
      "  0.36012599  1.77859116 -0.05064964 -0.78658655  0.61748004  0.17332208\n",
      "  0.00016481 -0.0340788  -2.41831398 -0.07044458 -1.37098289 -0.03568958\n",
      "  0.          0.        ]\n",
      "[-2.82166052 -0.07975245 -0.01082038  0.99994146  1.67292416  0.0027306\n",
      " -0.13693488  1.78177381 -0.0506959  -0.78699043  0.61696521  0.15598987\n",
      "  0.00014833 -0.03271564 -2.44570637 -0.07115746 -1.36961198 -0.0356539\n",
      "  0.          0.        ]\n",
      "[-2.78083515 -0.07884979 -0.01757193  0.9998456   2.04186487  0.00380833\n",
      " -0.33761215  1.78464222 -0.05074072 -0.7873778   0.61647077  0.14039087\n",
      "  0.0001335  -0.03140702 -2.4730711  -0.07186985 -1.36824238 -0.03561824\n",
      "  0.          0.        ]\n",
      "[-2.73717499 -0.07712412 -0.03147902  0.99950441  2.18509364  0.00119305\n",
      " -0.69556957  1.78722739 -0.05078411 -0.7877494   0.61599585  0.12635179\n",
      "  0.00012015 -0.03015074 -2.35958242 -0.06884003  5.67442274  0.15150218\n",
      "  0.         15.        ]\n",
      "opp shoot\n",
      "[-2.73184156 -0.07761478 -0.0301006   0.99954687  0.26640588 -0.01608198\n",
      "  0.06895404  1.78955746 -0.05082512 -0.78810585  0.61553974  0.11371661\n",
      "  0.00010813 -0.02894471 -2.18026209 -0.06055546 27.84563828  0.82843512\n",
      "  0.          0.        ]\n",
      "opp shoot\n",
      "[-2.74134922 -0.07764053 -0.02989273  0.99955311 -0.47541672 -0.00002138\n",
      "  0.01039809  1.79165792 -0.05086517 -0.78844782  0.61510165  0.10234495\n",
      "  0.00009732 -0.02778692 -2.21451426 -0.06174898 -1.71261442 -0.05966625\n",
      "  0.          0.        ]\n",
      "[-2.73636436 -0.07786655 -0.02765989  0.99961739  0.24883336  0.00235428\n",
      "  0.11168837  1.79355168 -0.0509038  -0.78877588  0.61468091  0.09211045\n",
      "  0.00008759 -0.02667544 -2.24873209 -0.06294107 -1.71090186 -0.05960659\n",
      "  0.          0.        ]\n"
     ]
    },
    {
     "name": "stdout",
     "output_type": "stream",
     "text": [
      "[-2.71906471 -0.07845831 -0.0221114   0.99975551  0.86415929  0.0043566\n",
      "  0.27751073  1.795259   -0.05094051 -0.7890906   0.61427683  0.0828994\n",
      "  0.00007883 -0.02560842 -2.28291607 -0.06413221 -1.70919096 -0.05954698\n",
      "  0.          0.        ]\n",
      "[-2.69164181 -0.07965851 -0.01130649  0.99993608  1.37001956  0.00610469\n",
      "  0.54032314  1.79679871 -0.05097628 -0.78939253  0.61388878  0.07460946\n",
      "  0.00007095 -0.02458408 -2.31706572 -0.06532192 -1.70748174 -0.05948744\n",
      "  0.          0.        ]\n",
      "[-2.65627861 -0.07990265 -0.00804615  0.99996763  1.7679677   0.00774857\n",
      "  0.1630251   1.79818726 -0.05101061 -0.78968221  0.61351611  0.06714851\n",
      "  0.00006385 -0.02360072 -2.35118103 -0.06651068 -1.70577431 -0.05942795\n",
      "  0.          0.        ]\n",
      "[-2.61761761 -0.08067465 -0.00028982  0.99999996  1.93285823  0.00886565\n",
      "  0.38782093  1.79943991 -0.05104303 -0.78996012  0.61315823  0.06043366\n",
      "  0.00005747 -0.02265669 -2.24078989 -0.06740141  5.51956701 -0.0445476\n",
      "  0.         15.        ]\n",
      "[-2.60440969 -0.0801506  -0.00084026  0.99999965  0.91804397  0.02300125\n",
      " -0.02900688  1.80057001 -0.05107498 -0.79022676  0.61281454  0.05439029\n",
      "  0.00005172 -0.02175042 -2.2895298  -0.08024931  1.93092597  0.00885678\n",
      "  0.         14.        ]\n",
      "opp shoot\n",
      "[-2.62437153 -0.07946634 -0.00078321  0.99999969 -0.99808079  0.0345718\n",
      "  0.00285247  1.80158925 -0.05110502 -0.7904826   0.6124845   0.04895126\n",
      "  0.00004655 -0.02088041 -2.07251072 -0.07901049 26.594944    0.05700693\n",
      "  0.          0.        ]\n",
      "opp shoot\n",
      "[-2.65864182 -0.07854843 -0.0007794   0.9999997  -1.71351302  0.0459118\n",
      "  0.00019093  1.80250931 -0.05113411 -0.79072808  0.61216754  0.04405613\n",
      "  0.00004189 -0.02004519 -2.12699127 -0.07847452 -2.72403407  0.0268084\n",
      "  0.          0.        ]\n",
      "opp shoot\n",
      "[ -2.67586279  -0.07924986   0.00476667   0.99998864  -0.86096984\n",
      "  -0.00114569   0.27730393   1.80333948  -0.05116224  -0.79096363\n",
      "   0.61186317   0.03965052   0.0000377   -0.01924338  -2.78081703\n",
      "  -0.07840586 -32.69129944   0.0034231    0.           0.        ]\n",
      "opp shoot\n",
      "[-2.73985958 -0.07905102  0.00413244  0.99999146 -3.19986987  0.00607847\n",
      " -0.03171138  1.80408907 -0.05118942 -0.79118965  0.61157088  0.03568546\n",
      "  0.00003393 -0.01847365 -1.92122364 -0.08267641 42.97966385 -0.21353425\n",
      "  0.         15.        ]\n",
      "[-2.81675959 -0.07862806  0.00415496  0.99999137 -3.58759952  0.02019047\n",
      "  0.00024518  1.8047657  -0.05121517 -0.79140653  0.6112902   0.03211692\n",
      "  0.00003054 -0.0177347  -2.50187683 -0.08015156 -2.55989742  0.00486279\n",
      "  0.         14.        ]\n",
      "opp shoot\n",
      "[-2.89275742 -0.07821417  0.00136571  0.99999907 -3.79994798  0.00362038\n",
      " -0.13946311  1.80537677 -0.05123997 -0.79161464  0.61102067  0.02890522\n",
      "  0.00002749 -0.01702531 -2.30747509 -0.0807929  25.46423531 -0.10824483\n",
      "  0.          0.        ]\n",
      "[-2.97246361 -0.07788181  0.00156127  0.99999878 -3.98531699  0.01782236\n",
      "  0.00977812  1.80592871 -0.05126429 -0.79181432  0.61076188  0.0260147\n",
      "  0.00002474 -0.0163443  -1.9000473  -0.08252478 20.37138939 -0.08659586\n",
      "  0.          0.        ]\n",
      "[-3.05402279 -0.07726717  0.0015304   0.99999883 -4.07793951  0.03054225\n",
      " -0.00154323  1.80642748 -0.05128717 -0.79200595  0.61051337  0.02341323\n",
      "  0.00002226 -0.01569053 -1.57410526 -0.08391047 16.29711151 -0.06927669\n",
      "  0.          0.        ]\n",
      "[-3.13572979 -0.07642794  0.00151688  0.99999885 -4.08536577  0.0418757\n",
      " -0.0006761   1.80687809 -0.05130911 -0.79218983  0.61027475  0.02107191\n",
      "  0.00002004 -0.0150629  -1.2484889  -0.08529472 16.28081512 -0.06920741\n",
      "  0.          0.        ]\n",
      "[-3.17202473 -0.07538795  0.0015022   0.99999887 -1.81476021  0.05191954\n",
      " -0.00073429  1.80728555 -0.05133009 -0.79236629  0.61004563  0.01896472\n",
      "  0.00001803 -0.01446039 -0.92319822 -0.08667755 16.264534   -0.06913821\n",
      "  0.          0.        ]\n",
      "[-3.21079731 -0.07417059  0.00148775  0.99999889 -1.93864059  0.06076534\n",
      " -0.00072232  1.8076539  -0.05135059 -0.79253563  0.60982561  0.01706824\n",
      "  0.00001623 -0.01388197 -0.59823275 -0.08805895 16.24827003 -0.06906907\n",
      "  0.          0.        ]\n",
      "[-3.25107765 -0.07279873  0.00147344  0.99999891 -2.01403427  0.06849988\n",
      " -0.00071574  1.80798697 -0.05137062 -0.79269815  0.60961434  0.01536142\n",
      "  0.00001461 -0.01332669 -0.27359247 -0.08943892 16.23202133 -0.06900001\n",
      "  0.          0.        ]\n",
      "[-3.29196548 -0.07129288  0.00145926  0.99999894 -2.04438615  0.07520551\n",
      " -0.00070883  1.80828834 -0.05138922 -0.79285412  0.60941148  0.01382528\n",
      "  0.00001315 -0.01279363  0.05072308 -0.09081745 16.21578979 -0.06893101\n",
      "  0.          0.        ]\n",
      "[-3.33263779 -0.06967211  0.00144522  0.99999896 -2.03363466  0.08096018\n",
      " -0.00070201  1.80856109 -0.05140734 -0.79300378  0.60921671  0.01244275\n",
      "  0.00001183 -0.01228188  0.37471437 -0.09219456 16.19957352 -0.06886207\n",
      "  0.          0.        ]\n",
      "[-3.33449173 -0.06795359  0.00143131  0.99999898 -0.09270722  0.0858376\n",
      " -0.00069525  1.80880785 -0.0514245  -0.79314741  0.60902971  0.01119847\n",
      "  0.00001065 -0.01179061  0.6983819  -0.09357023 16.1833744  -0.06879321\n",
      "  0.          0.        ]\n",
      "[-3.33924198 -0.066154    0.00141754  0.999999   -0.23753041  0.08990726\n",
      " -0.00068857  1.80903125 -0.05144119 -0.79328526  0.60885014  0.01007863\n",
      "  0.00000958 -0.01131898  1.02172565 -0.09494495 16.16719055 -0.06872442\n",
      "  0.          0.        ]\n",
      "[-3.34651089 -0.06428719  0.0014039   0.99999901 -0.36344862  0.09323487\n",
      " -0.00068194  1.8092339  -0.05145741 -0.79341756  0.60867773  0.00907076\n",
      "  0.00000863 -0.01086622  1.34474611 -0.09631824 16.15102386 -0.0686557\n",
      "  0.          0.        ]\n",
      "[ -3.35591125  -0.06236792   0.0013904    0.99999903  -0.47000739\n",
      "   0.0958821   -0.00067538   1.81185246  -0.04510069  -0.7756119\n",
      "   0.63121009   0.26880723   0.20888627   1.43597245   1.3745749\n",
      "  -0.33239365   1.4914422  -11.8037653   15.           0.        ]\n",
      "[-3.36705399 -0.06040764  0.00137702  0.99999905 -0.55715823  0.09790722\n",
      " -0.00066888  1.81772423 -0.03502035 -0.75812133  0.65211352  0.24214806\n",
      "  0.18855757  1.37872946  1.61544418 -0.27576351  0.25608835  0.17722015\n",
      " 14.          0.        ]\n",
      "opp shoot\n",
      "[ -3.3398447   -0.05974102   0.00646473   0.9999791    1.36062646\n",
      "   0.06447314   0.254388     1.81965542  -0.02948141  -0.74059524\n",
      "   0.6719514    0.21793325   0.1697018    1.32358027   1.22316289\n",
      "  -0.03042746 -29.72806931   0.22963828  13.           0.        ]\n",
      "opp shoot\n",
      "[ -3.27811241  -0.05811405   0.00673192   0.99997734   3.08663273\n",
      "   0.08299614   0.01335983   1.8213017   -0.0243082   -0.72328182\n",
      "   0.69055297   0.19613992   0.15273161   1.27063704   1.34315252\n",
      "  -0.02366304 -23.82515144   0.29091507  12.           0.        ]\n",
      "opp shoot\n",
      "[ -3.18531418  -0.05632734   0.00948026   0.99995506   4.64003801\n",
      "   0.10614581   0.13742116   1.82269812  -0.01947117  -0.70622137\n",
      "   0.70799108   0.17652592   0.13745844   1.21981156   1.34445095\n",
      "  -0.01863337 -23.84254456   0.28375149  11.           0.        ]\n",
      "opp shoot\n",
      "[ -3.06457138  -0.05509424   0.02007658   0.99979845   6.0381031\n",
      "   0.12648462   0.52987629   1.82387543  -0.01494408  -0.68944778\n",
      "   0.72433539   0.15887332   0.1237126    1.17101908   1.3455441\n",
      "  -0.01272154 -23.85770226   0.33749294  10.           0.        ]\n",
      "opp shoot\n",
      "[ -2.91865206  -0.05247784   0.02311642   0.99973278   7.29636192\n",
      "   0.14944224   0.1520278    1.82486081  -0.01070309  -0.67298924\n",
      "   0.73965227   0.14298598   0.11134133   1.12417829   1.34651423\n",
      "  -0.00332785 -23.86806297   0.58080786   9.           0.        ]\n",
      "opp shoot\n",
      "[ -2.75010538  -0.0497508    0.03185009   0.99949266   8.42879486\n",
      "   0.18978108   0.43684998   1.82567811  -0.00672626  -0.65686891\n",
      "   0.7540048    0.12868738   0.1002072    1.07921112   1.34727693\n",
      "   0.00217414 -23.87919807   0.64386719   8.           0.        ]\n",
      "opp shoot\n",
      "[ -2.56113291  -0.04473591   0.02839355   0.99959682   9.4479847\n",
      "   0.22960025  -0.17290571   1.82634902  -0.00299358  -0.6411054\n",
      "   0.76745284   0.11581864   0.09018648   1.03604269   1.34798074\n",
      "   0.01016498 -23.88487244   0.84456795   7.           0.        ]\n",
      "opp shoot\n",
      "[ -2.35383224  -0.03931284   0.0295689    0.99956274  10.36525536\n",
      "   0.27834564   0.05879253   1.82689166   0.00051332  -0.62571337\n",
      "   0.78005306   0.10423677   0.08116782   0.99460095   1.34839559\n",
      "   0.01207829 -23.89767265   0.75359434   6.           0.        ]\n",
      "opp shoot\n",
      "[ -2.22943306  -0.03537703   0.02470396   0.99969481   6.2191534\n",
      "   0.16700739  -0.24333689   1.82732344   0.00381112  -0.61070405\n",
      "   0.79185893   0.09381309   0.07305104   0.95481688   1.34876943\n",
      "   0.01600504 -23.90611649   0.77458799   5.           0.        ]\n"
     ]
    },
    {
     "name": "stdout",
     "output_type": "stream",
     "text": [
      "opp shoot\n",
      "[ -2.08025217  -0.0313549    0.02640262   0.99965139   7.45930624\n",
      "   0.21148938   0.08496062   1.82765841   0.00691485  -0.59608551\n",
      "   0.80292096   0.08443178   0.06574593   0.91662419   1.34897089\n",
      "   0.01683784 -23.91762543   0.65133595   4.           0.        ]\n",
      "opp shoot\n",
      "[ -1.90873909  -0.02635479   0.02491575   0.99968955   8.57544422\n",
      "   0.24090908  -0.07436819   1.82790947   0.00983882  -0.58186319\n",
      "   0.81328668   0.07598861   0.05917134   0.87995923   1.34917665\n",
      "   0.02064013 -23.92408752   0.68625969   3.           0.        ]\n",
      "opp shoot\n",
      "[ -1.71711588  -0.01981926   0.01517717   0.99988482   9.57996845\n",
      "   0.26720497  -0.48702878   1.82808852   0.01259542  -0.56804013\n",
      "   0.82300086   0.06838974   0.05325421   0.84476084   1.34927416\n",
      "   0.02274513 -23.93176079   0.64531505   2.           0.        ]\n",
      "opp shoot\n",
      "[ -1.50743246  -0.01395702   0.01389605   0.99990345  10.48404026\n",
      "   0.2852602   -0.06406283   1.82820535   0.0151968   -0.55461744\n",
      "   0.83210546   0.06155077   0.04792878   0.81097037   0.95419788\n",
      "  -0.2519269  -43.69454575 -13.22610664   0.           0.        ]\n",
      "[ -1.38162851  -0.01084566   0.01644484   0.99986477   6.29042435\n",
      "   0.17115612   0.12745428   1.82826877   0.01765323  -0.54159431\n",
      "   0.84063999   0.05539569   0.0431359    0.77853155   0.25508499\n",
      "  -0.46354485 -34.95563889 -10.58088589   0.           0.        ]\n",
      "[ -1.23420191  -0.01626205   0.01741996   0.99984826   7.37142515\n",
      "  -0.26483363   0.04876283   1.82828665   0.01997495  -0.52896853\n",
      "   0.84864144   0.04985612   0.03882231   0.74739027  -0.30420542\n",
      "  -0.6328392  -27.96451187  -8.46470928   0.           0.        ]\n",
      "[ -1.13875723  -0.02329445   0.01716634   0.99985265   4.77221346\n",
      "  -0.35316116  -0.01268291   1.82826591   0.02217054  -0.51673659\n",
      "   0.85614444   0.04487051   0.03494008   0.71749467  -0.75163746\n",
      "  -0.76827431 -22.37161064  -6.77176762   0.           0.        ]\n",
      "[ -1.0900979   -0.03237391   0.01674517   0.99985979   2.43292308\n",
      "  -0.45656538  -0.02106116   1.8282125    0.02424884  -0.50489378\n",
      "   0.86318148   0.04038345   0.03144607   0.68879485  -1.10958338\n",
      "  -0.87662268 -17.89728928  -5.41741419   0.           0.        ]\n",
      "[ -1.08354568  -0.04366541   0.01616752   0.9998693    0.32756189\n",
      "  -0.56811374  -0.02888626   1.82813168   0.02621722  -0.49343453\n",
      "   0.86978294   0.03634511   0.02830146   0.66124302  -1.39593983\n",
      "  -0.96330118 -14.31783199  -4.33393145   0.           0.        ]\n",
      "[ -1.11489058  -0.05730104   0.0160436    0.99987129  -1.56726313\n",
      "  -0.68254483  -0.00619682   1.82802773   0.02808285  -0.48235242\n",
      "   0.87597725   0.0327106    0.02547131   0.63479328  -1.68201017\n",
      "  -1.0498929  -14.30351448  -4.32959747   0.           0.        ]\n",
      "[ -1.1803422   -0.07324839   0.01575857   0.99987583  -3.27260566\n",
      "  -0.79911774  -0.01425332   1.82790518   0.02985215  -0.47164044\n",
      "   0.88179096   0.02943954   0.02292418   0.60940152  -1.96779442\n",
      "  -1.13639832 -14.28921127  -4.32526779   0.           0.        ]\n",
      "[ -1.27648973  -0.09153843   0.01532183   0.99988261  -4.80741358\n",
      "  -0.91717178  -0.02184002   1.82776737   0.03153157  -0.46129098\n",
      "   0.88724891   0.02649558   0.02063176   0.58502543  -2.25329304\n",
      "  -1.22281694 -14.27492237  -4.3209424    0.           0.        ]\n",
      "[ -1.40026379  -0.11218977   0.01474395   0.9998913   -6.18874073\n",
      "  -1.03610647  -0.02889716   1.82761693   0.03312612  -0.45129607\n",
      "   0.89237428   0.02384602   0.01856859   0.56162441  -2.53850603\n",
      "  -1.30914927 -14.26064777  -4.3166213    0.           0.        ]\n",
      "[ -1.54890251  -0.13528395   0.01463478   0.99989291  -7.43193483\n",
      "  -1.15537786  -0.00545908   1.82745695   0.03464103  -0.44164738\n",
      "   0.89718872   0.02146142   0.01671173   0.53915942  -2.82343388\n",
      "  -1.39539528 -14.24638748  -4.31230497   0.           0.        ]\n",
      "[ -1.71900749  -0.16074228   0.01437849   0.99989662  -8.50528049\n",
      "  -1.27448142  -0.01281581   1.82728958   0.03608131  -0.4323363\n",
      "   0.90171244   0.01931528   0.01504055   0.51759303  -3.10807705\n",
      "  -1.48155499 -14.23214149  -4.30799294   0.           0.        ]\n",
      "[ -1.90526485  -0.18855381   0.01398362   0.99990222  -9.31291771\n",
      "  -1.3929776   -0.01974561   1.82711697   0.03745151  -0.42335407\n",
      "   0.90596431   0.01738375   0.0135365    0.49688929  -3.39243507\n",
      "  -1.56762886 -14.21790981  -4.30368519   0.           0.        ]\n",
      "[ -2.10259151  -0.21869898   0.01345979   0.99990941  -9.86637878\n",
      "  -1.51047313  -0.02619381   1.82694054   0.03875518  -0.4146918\n",
      "   0.90996193   0.01564538   0.01218285   0.47701371  -3.6765089\n",
      "  -1.65361643 -14.20369244  -4.29938173   0.           0.        ]\n",
      "[ -2.30620718  -0.25121927   0.01335985   0.99991075 -10.18077564\n",
      "  -1.62661719  -0.00499759   1.82676196   0.03999662  -0.40634048\n",
      "   0.91372174   0.01408084   0.01096456   0.45793316  -3.45309067\n",
      "  -1.68973494  13.4800148   -1.52813196   0.           0.        ]\n",
      "[-2.4283762  -0.27070999  0.01312561  0.99991386 -6.10846567 -0.97597033\n",
      " -0.01171282  1.82658243  0.04117894 -0.39829115  0.91725905  0.01267275\n",
      "  0.00986811  0.43961582 -3.18375969 -1.72026682 13.46653461 -1.52660382\n",
      "  0.          0.        ]\n",
      "[-2.55828238 -0.28722477  0.01276488  0.99991853 -6.49533749 -0.82796526\n",
      " -0.0180382   1.82640338  0.04230571 -0.39053483  0.92058815  0.01140548\n",
      "  0.0088813   0.42203116 -2.91469812 -1.75076818 13.45306778 -1.52507722\n",
      "  0.          0.        ]\n",
      "[-2.69273281 -0.30099964  0.01228644  0.99992452 -6.72257519 -0.69168544\n",
      " -0.02392383  1.82622504  0.04338026 -0.38306258  0.92372239  0.01026493\n",
      "  0.00799317  0.40514991 -2.64590597 -1.78123903 13.43961525 -1.52355218\n",
      "  0.          0.        ]\n",
      "[-2.82877111 -0.31231785  0.01219523  0.99992564 -6.80191088 -0.56646872\n",
      " -0.00456088  1.82604861  0.04440475 -0.37586553  0.92667422  0.00923844\n",
      "  0.00719385  0.38894391 -2.37738228 -1.81167984 13.42617607 -1.52202868\n",
      "  0.          0.        ]\n",
      "[-2.91396332 -0.32132483  0.01198143  0.99992822 -4.25965071 -0.45166606\n",
      " -0.01069074  1.82587433  0.04538226 -0.36893498  0.92945521  0.00831459\n",
      "  0.00647446  0.37338614 -2.10912704 -1.84209013 13.41275024 -1.52050662\n",
      "  0.          0.        ]\n",
      "[-3.00154972 -0.32821751  0.01165216  0.99993211 -4.37930584 -0.34666654\n",
      " -0.01646473  1.82570338  0.04631543 -0.36226228  0.9320762   0.00748313\n",
      "  0.00582702  0.35845068 -1.84114027 -1.8724699  13.39933777 -1.51898611\n",
      "  0.          0.        ]\n",
      "[-3.08965778 -0.33318186  0.01121544  0.9999371  -4.40544987 -0.25088352\n",
      " -0.02183732  1.82553577  0.0472064  -0.35583897  0.93454729  0.00673482\n",
      "  0.00524431  0.34411263 -1.57342148 -1.90281916 13.38593864 -1.51746714\n",
      "  0.          0.        ]\n",
      "[-3.13171482 -0.33644676  0.01113218  0.99993804 -2.10283589 -0.1637544\n",
      " -0.00416337  1.8253715   0.04805732 -0.34965673  0.93687789  0.00606134\n",
      "  0.00471988  0.33034813 -1.30597019 -1.93313837 13.37255287 -1.51594973\n",
      "  0.          0.        ]\n",
      "[-3.17642403 -0.3381176   0.01093701  0.99994019 -2.23543859 -0.08473025\n",
      " -0.00975887  1.82521176  0.04887033 -0.34370742  0.93907679  0.0054552\n",
      "  0.00424789  0.3171342  -1.03878641 -1.96342707 13.35918045 -1.51443374\n",
      "  0.          0.        ]\n",
      "[-3.22268581 -0.33834696  0.01063644  0.99994343 -2.31315494 -0.0132974\n",
      " -0.01502952  1.82505584  0.04964733 -0.33798307  0.94115219  0.00490968\n",
      "  0.00382311  0.30444881 -0.77187014 -1.99368525 13.34582138 -1.51291931\n",
      "  0.          0.        ]\n",
      "[-3.26948643 -0.33727694  0.01023779  0.99994759 -2.34002829  0.05103487\n",
      " -0.01993376  1.82490468  0.05039024 -0.33247589  0.94311176  0.00441871\n",
      "  0.00344079  0.29227087 -0.50522041 -2.02391338 13.33247566 -1.51140642\n",
      "  0.          0.        ]\n",
      "[-3.27436447 -0.33504248  0.0097491   0.99995248 -0.24395657  0.10873467\n",
      " -0.02443548  1.82475781  0.05110049 -0.32717832  0.94496262  0.00397684\n",
      "  0.00309672  0.28058001 -0.23883772 -2.05411148 13.3191433  -1.50989509\n",
      "  0.          0.        ]\n",
      "[-3.28295708 -0.33183002  0.00968492  0.9999531  -0.42963538  0.16024841\n",
      " -0.00320903  1.82461524  0.05177975 -0.32208296  0.94671145  0.00357916\n",
      "  0.00278704  0.26935682  0.0272789  -2.08427906 13.30582428 -1.50838518\n",
      "  0.          0.        ]\n",
      "[-3.29473209 -0.32768965  0.00952306  0.99995465 -0.58874625  0.20601261\n",
      " -0.00809358  1.8244772   0.05242968 -0.31718261  0.94836448  0.00322124\n",
      "  0.00250834  0.25858253  0.29312944 -2.1144166  13.29251862 -1.50687683\n",
      "  0.          0.        ]\n"
     ]
    },
    {
     "name": "stdout",
     "output_type": "stream",
     "text": [
      "[-3.30915165 -0.32273006  0.00926909  0.99995704 -0.72098315  0.2464294\n",
      " -0.01269895  1.82434392  0.05305123 -0.31247028  0.94992754  0.00289912\n",
      "  0.00225751  0.24823922  0.55871391 -2.1445241  13.2792263  -1.50537002\n",
      "  0.          0.        ]\n",
      "[-3.32568169 -0.31705093  0.00892933  0.99996013 -0.82657117  0.281881\n",
      " -0.01698866  1.82421517  0.05364633 -0.30793921  0.95140604  0.00260921\n",
      "  0.00203175  0.23830965  0.82403278 -2.17460155 13.26594734 -1.50386465\n",
      "  0.          0.        ]\n",
      "[-3.34380627 -0.31074476  0.00851073  0.99996378 -0.90621036  0.31272995\n",
      " -0.02093091  1.82409096  0.05421591 -0.30358279  0.95280506  0.00234829\n",
      "  0.00182858  0.22877726  1.08908653 -2.20464897 13.25268173 -1.50236082\n",
      "  0.          0.        ]\n",
      "[-3.36302662 -0.30395174  0.0084541   0.99996426 -0.96101099  0.33931977\n",
      " -0.00283151  1.82397127  0.05476141 -0.29939465  0.95412937  0.00211346\n",
      "  0.00164572  0.21962616  1.35387516 -2.23466635 13.23942947 -1.50085843\n",
      "  0.          0.        ]\n"
     ]
    }
   ],
   "source": [
    "obs = env.reset()\n",
    "time.sleep(1)\n",
    "obs_agent2 = env.obs_agent_two()\n",
    "for _ in range(200):\n",
    "    time.sleep(0.2)\n",
    "    env.render()\n",
    "    a1 = player1.act(obs) \n",
    "    a2 = player2.act(obs_agent2)\n",
    "    obs, r, d, info = env.step(np.hstack([a1,a2]))    \n",
    "    obs_agent2 = env.obs_agent_two()\n",
    "    if d: break"
   ]
  },
  {
   "cell_type": "code",
   "execution_count": null,
   "metadata": {},
   "outputs": [],
   "source": []
  },
  {
   "cell_type": "code",
   "execution_count": 37,
   "metadata": {},
   "outputs": [
    {
     "data": {
      "text/plain": [
       "b2Vec2(2,4)"
      ]
     },
     "execution_count": 37,
     "metadata": {},
     "output_type": "execute_result"
    }
   ],
   "source": [
    "env.puck.position"
   ]
  },
  {
   "cell_type": "code",
   "execution_count": null,
   "metadata": {},
   "outputs": [],
   "source": []
  }
 ],
 "metadata": {
  "kernelspec": {
   "display_name": "Gym-RL",
   "language": "python",
   "name": "gym-rl"
  },
  "language_info": {
   "codemirror_mode": {
    "name": "ipython",
    "version": 3
   },
   "file_extension": ".py",
   "mimetype": "text/x-python",
   "name": "python",
   "nbconvert_exporter": "python",
   "pygments_lexer": "ipython3",
   "version": "3.6.11"
  },
  "toc": {
   "base_numbering": 1,
   "nav_menu": {},
   "number_sections": true,
   "sideBar": true,
   "skip_h1_title": false,
   "title_cell": "Table of Contents",
   "title_sidebar": "Contents",
   "toc_cell": false,
   "toc_position": {},
   "toc_section_display": true,
   "toc_window_display": false
  }
 },
 "nbformat": 4,
 "nbformat_minor": 2
}
