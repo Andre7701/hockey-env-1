{
 "cells": [
  {
   "cell_type": "code",
   "execution_count": 1,
   "metadata": {
    "ExecuteTime": {
     "end_time": "2019-08-21T19:12:18.980322Z",
     "start_time": "2019-08-21T19:12:18.819269Z"
    }
   },
   "outputs": [],
   "source": [
    "import numpy as np\n",
    "import laser_hockey_env as lh\n",
    "import gym\n",
    "from importlib import reload"
   ]
  },
  {
   "cell_type": "code",
   "execution_count": 2,
   "metadata": {
    "ExecuteTime": {
     "end_time": "2019-08-21T19:12:19.327491Z",
     "start_time": "2019-08-21T19:12:19.321977Z"
    }
   },
   "outputs": [],
   "source": [
    "np.set_printoptions(suppress=True)"
   ]
  },
  {
   "cell_type": "markdown",
   "metadata": {
    "ExecuteTime": {
     "end_time": "2018-12-20T21:03:35.086427Z",
     "start_time": "2018-12-20T21:03:35.082123Z"
    }
   },
   "source": [
    "# Normal Game Play"
   ]
  },
  {
   "cell_type": "code",
   "execution_count": 4,
   "metadata": {
    "ExecuteTime": {
     "end_time": "2019-08-21T19:12:20.113779Z",
     "start_time": "2019-08-21T19:12:20.096161Z"
    }
   },
   "outputs": [
    {
     "name": "stdout",
     "output_type": "stream",
     "text": [
      "Cannot re-register id: LaserHockey-v0\n"
     ]
    },
    {
     "data": {
      "text/plain": [
       "<module 'laser_hockey_env' from '/home/georg/src/python/laser-hockey-env/laser_hockey_env.py'>"
      ]
     },
     "execution_count": 4,
     "metadata": {},
     "output_type": "execute_result"
    }
   ],
   "source": [
    "reload(lh)"
   ]
  },
  {
   "cell_type": "code",
   "execution_count": 5,
   "metadata": {
    "ExecuteTime": {
     "end_time": "2019-08-21T19:12:20.679643Z",
     "start_time": "2019-08-21T19:12:20.671317Z"
    }
   },
   "outputs": [],
   "source": [
    "env = lh.LaserHockeyEnv()"
   ]
  },
  {
   "cell_type": "markdown",
   "metadata": {},
   "source": [
    "have a look at the initialization condition: alternating who starts and are random in puck position"
   ]
  },
  {
   "cell_type": "code",
   "execution_count": 6,
   "metadata": {
    "ExecuteTime": {
     "end_time": "2019-08-21T19:12:21.968928Z",
     "start_time": "2019-08-21T19:12:21.528122Z"
    }
   },
   "outputs": [
    {
     "data": {
      "text/plain": [
       "True"
      ]
     },
     "execution_count": 6,
     "metadata": {},
     "output_type": "execute_result"
    }
   ],
   "source": [
    "obs = env.reset()\n",
    "obs_agent2 = env.obs_agent_two()\n",
    "env.render()"
   ]
  },
  {
   "cell_type": "markdown",
   "metadata": {},
   "source": [
    "one episode with random agents"
   ]
  },
  {
   "cell_type": "code",
   "execution_count": 7,
   "metadata": {
    "ExecuteTime": {
     "end_time": "2019-08-21T19:14:39.528415Z",
     "start_time": "2019-08-21T19:14:31.154821Z"
    }
   },
   "outputs": [],
   "source": [
    "#obs = env.reset()\n",
    "obs_agent2 = env.obs_agent_two()\n",
    "\n",
    "for _ in range(600):\n",
    "    env.render()\n",
    "    a1 = np.random.uniform(-1,1,3)\n",
    "    a2 = np.random.uniform(-1,1,3)    \n",
    "    obs, r, d, info = env.step(np.hstack([a1,a2]))    \n",
    "    obs_agent2 = env.obs_agent_two()\n",
    "    if d: break"
   ]
  },
  {
   "cell_type": "markdown",
   "metadata": {},
   "source": [
    "Without rendering, it runs much faster"
   ]
  },
  {
   "cell_type": "code",
   "execution_count": 26,
   "metadata": {
    "ExecuteTime": {
     "end_time": "2019-01-11T08:00:20.475049Z",
     "start_time": "2019-01-11T08:00:20.312847Z"
    }
   },
   "outputs": [],
   "source": [
    "obs = env.reset()\n",
    "obs_agent2 = env.obs_agent_two()\n",
    "\n",
    "for _ in range(600):    \n",
    "    a1 = [1,-.5,0] # np.random.uniform(-1,1,3)\n",
    "    a2 = [1,0.,0] # np.random.uniform(-1,1,3)*0    \n",
    "    obs, r, d, info = env.step(np.hstack([a1,a2]))    \n",
    "    obs_agent2 = env.obs_agent_two()\n",
    "    if d: break"
   ]
  },
  {
   "cell_type": "markdown",
   "metadata": {
    "ExecuteTime": {
     "end_time": "2019-01-11T07:57:48.631793Z",
     "start_time": "2019-01-11T07:57:48.627528Z"
    }
   },
   "source": [
    "\"info\" dict contains useful proxy rewards and winning information"
   ]
  },
  {
   "cell_type": "code",
   "execution_count": 27,
   "metadata": {
    "ExecuteTime": {
     "end_time": "2019-01-11T08:00:20.784862Z",
     "start_time": "2019-01-11T08:00:20.779373Z"
    }
   },
   "outputs": [
    {
     "data": {
      "text/plain": [
       "{'winner': 0,\n",
       " 'reward_closeness_to_puck': 0,\n",
       " 'reward_touch_puck': 0.0,\n",
       " 'reward_puck_direction': 0.0}"
      ]
     },
     "execution_count": 27,
     "metadata": {},
     "output_type": "execute_result"
    }
   ],
   "source": [
    "info"
   ]
  },
  {
   "cell_type": "markdown",
   "metadata": {
    "ExecuteTime": {
     "end_time": "2019-01-11T07:59:24.867441Z",
     "start_time": "2019-01-11T07:59:24.862324Z"
    }
   },
   "source": [
    "Winner == 0: draw\n",
    "\n",
    "Winner == 1: you (left player)\n",
    "\n",
    "Winner == -1: opponent wins (right player)"
   ]
  },
  {
   "cell_type": "markdown",
   "metadata": {
    "ExecuteTime": {
     "end_time": "2018-12-20T20:37:41.013424Z",
     "start_time": "2018-12-20T20:37:41.009298Z"
    }
   },
   "source": [
    "# Train Shooting"
   ]
  },
  {
   "cell_type": "code",
   "execution_count": 29,
   "metadata": {
    "ExecuteTime": {
     "end_time": "2019-01-11T08:00:32.294924Z",
     "start_time": "2019-01-11T08:00:32.288528Z"
    }
   },
   "outputs": [],
   "source": [
    "env = lh.LaserHockeyEnv(mode=lh.LaserHockeyEnv.TRAIN_SHOOTING)"
   ]
  },
  {
   "cell_type": "code",
   "execution_count": 36,
   "metadata": {
    "ExecuteTime": {
     "end_time": "2019-01-11T08:01:01.754465Z",
     "start_time": "2019-01-11T08:01:01.728781Z"
    }
   },
   "outputs": [
    {
     "data": {
      "text/plain": [
       "True"
      ]
     },
     "execution_count": 36,
     "metadata": {},
     "output_type": "execute_result"
    }
   ],
   "source": [
    "o = env.reset()\n",
    "env.render()"
   ]
  },
  {
   "cell_type": "code",
   "execution_count": 37,
   "metadata": {
    "ExecuteTime": {
     "end_time": "2019-01-11T08:01:05.573939Z",
     "start_time": "2019-01-11T08:01:02.243221Z"
    }
   },
   "outputs": [],
   "source": [
    "for _ in range(200):\n",
    "    env.render()\n",
    "    a1 = [1,0,0] # np.random.uniform(-1,1,3)\n",
    "    a2 = [0,0.,0] \n",
    "    obs, r, d, info = env.step(np.hstack([a1,a2]))    \n",
    "    obs_agent2 = env.obs_agent_two()\n",
    "    if d: break"
   ]
  },
  {
   "cell_type": "markdown",
   "metadata": {
    "ExecuteTime": {
     "end_time": "2018-12-20T20:37:41.013424Z",
     "start_time": "2018-12-20T20:37:41.009298Z"
    }
   },
   "source": [
    "# Train DEFENDING"
   ]
  },
  {
   "cell_type": "code",
   "execution_count": 38,
   "metadata": {
    "ExecuteTime": {
     "end_time": "2019-01-11T08:01:07.630627Z",
     "start_time": "2019-01-11T08:01:07.625675Z"
    }
   },
   "outputs": [
    {
     "data": {
      "text/plain": [
       "<module 'laser_hockey_env' from '/home/gmartius_local/projects/InfoRL/laser-hockey-rl/laserhockeyenv/laser_hockey_env.py'>"
      ]
     },
     "execution_count": 38,
     "metadata": {},
     "output_type": "execute_result"
    }
   ],
   "source": [
    "reload(lh)"
   ]
  },
  {
   "cell_type": "code",
   "execution_count": 39,
   "metadata": {
    "ExecuteTime": {
     "end_time": "2019-01-11T08:01:07.981240Z",
     "start_time": "2019-01-11T08:01:07.974283Z"
    }
   },
   "outputs": [],
   "source": [
    "env = lh.LaserHockeyEnv(mode=lh.LaserHockeyEnv.TRAIN_DEFENSE)"
   ]
  },
  {
   "cell_type": "code",
   "execution_count": 40,
   "metadata": {
    "ExecuteTime": {
     "end_time": "2019-01-11T08:01:08.317742Z",
     "start_time": "2019-01-11T08:01:08.312949Z"
    }
   },
   "outputs": [],
   "source": [
    "o = env.reset()\n",
    "env.render()"
   ]
  },
  {
   "cell_type": "code",
   "execution_count": 42,
   "metadata": {
    "ExecuteTime": {
     "end_time": "2019-01-11T08:01:17.885328Z",
     "start_time": "2019-01-11T08:01:17.159573Z"
    }
   },
   "outputs": [
    {
     "name": "stdout",
     "output_type": "stream",
     "text": [
      "Player 2 scored\n"
     ]
    }
   ],
   "source": [
    "for _ in range(60):\n",
    "    env.render()\n",
    "    a1 = [1,0,0] # np.random.uniform(-1,1,3)\n",
    "    a2 = [0,0.,0] \n",
    "    obs, r, d, info = env.step(np.hstack([a1,a2]))    \n",
    "    obs_agent2 = env.obs_agent_two()\n",
    "    if d: break"
   ]
  },
  {
   "cell_type": "markdown",
   "metadata": {
    "ExecuteTime": {
     "end_time": "2018-12-20T20:37:41.013424Z",
     "start_time": "2018-12-20T20:37:41.009298Z"
    }
   },
   "source": [
    "# Using discrete actions"
   ]
  },
  {
   "cell_type": "code",
   "execution_count": null,
   "metadata": {
    "ExecuteTime": {
     "end_time": "2018-12-21T13:08:25.605760Z",
     "start_time": "2018-12-21T13:08:25.593455Z"
    }
   },
   "outputs": [],
   "source": [
    "env = lh.LaserHockeyEnv(mode=lh.LaserHockeyEnv.TRAIN_SHOOTING)"
   ]
  },
  {
   "cell_type": "code",
   "execution_count": null,
   "metadata": {
    "ExecuteTime": {
     "end_time": "2018-12-21T13:08:25.849615Z",
     "start_time": "2018-12-21T13:08:25.845081Z"
    }
   },
   "outputs": [],
   "source": [
    "import random"
   ]
  },
  {
   "cell_type": "code",
   "execution_count": null,
   "metadata": {
    "ExecuteTime": {
     "end_time": "2018-12-21T13:08:29.582257Z",
     "start_time": "2018-12-21T13:08:26.211196Z"
    }
   },
   "outputs": [],
   "source": [
    "for _ in range(200):\n",
    "    env.render()\n",
    "    a1_discrete = random.randint(0,7)\n",
    "    a1 = env.discrete_to_continous_action(a1_discrete)\n",
    "    a2 = [0,0.,0] \n",
    "    obs, r, d, info = env.step(np.hstack([a1,a2]))    \n",
    "    obs_agent2 = env.obs_agent_two()\n",
    "    if d: break"
   ]
  },
  {
   "cell_type": "code",
   "execution_count": null,
   "metadata": {},
   "outputs": [],
   "source": []
  },
  {
   "cell_type": "markdown",
   "metadata": {
    "ExecuteTime": {
     "end_time": "2018-12-20T20:37:41.013424Z",
     "start_time": "2018-12-20T20:37:41.009298Z"
    }
   },
   "source": [
    "# Hand-crafted Opponent"
   ]
  },
  {
   "cell_type": "code",
   "execution_count": 22,
   "metadata": {
    "ExecuteTime": {
     "end_time": "2019-08-21T19:16:04.371746Z",
     "start_time": "2019-08-21T19:16:04.353350Z"
    }
   },
   "outputs": [
    {
     "name": "stdout",
     "output_type": "stream",
     "text": [
      "Cannot re-register id: LaserHockey-v0\n"
     ]
    },
    {
     "data": {
      "text/plain": [
       "<module 'laser_hockey_env' from '/home/georg/src/python/laser-hockey-env/laser_hockey_env.py'>"
      ]
     },
     "execution_count": 22,
     "metadata": {},
     "output_type": "execute_result"
    }
   ],
   "source": [
    "reload(lh)"
   ]
  },
  {
   "cell_type": "code",
   "execution_count": 23,
   "metadata": {
    "ExecuteTime": {
     "end_time": "2019-08-21T19:16:04.516774Z",
     "start_time": "2019-08-21T19:16:04.510863Z"
    }
   },
   "outputs": [],
   "source": [
    "env = lh.LaserHockeyEnv()"
   ]
  },
  {
   "cell_type": "code",
   "execution_count": 24,
   "metadata": {
    "ExecuteTime": {
     "end_time": "2019-08-21T19:16:04.729445Z",
     "start_time": "2019-08-21T19:16:04.666357Z"
    }
   },
   "outputs": [
    {
     "data": {
      "text/plain": [
       "True"
      ]
     },
     "execution_count": 24,
     "metadata": {},
     "output_type": "execute_result"
    }
   ],
   "source": [
    "o = env.reset()\n",
    "env.render()"
   ]
  },
  {
   "cell_type": "code",
   "execution_count": 25,
   "metadata": {
    "ExecuteTime": {
     "end_time": "2019-08-21T19:16:09.794765Z",
     "start_time": "2019-08-21T19:16:09.790764Z"
    }
   },
   "outputs": [],
   "source": [
    "player1 = lh.BasicOpponent()\n",
    "player2 = lh.BasicOpponent()"
   ]
  },
  {
   "cell_type": "code",
   "execution_count": 26,
   "metadata": {
    "ExecuteTime": {
     "end_time": "2019-08-21T19:16:10.202581Z",
     "start_time": "2019-08-21T19:16:10.198608Z"
    }
   },
   "outputs": [],
   "source": [
    "obs_buffer = []"
   ]
  },
  {
   "cell_type": "code",
   "execution_count": 28,
   "metadata": {
    "ExecuteTime": {
     "end_time": "2019-08-21T19:16:22.594530Z",
     "start_time": "2019-08-21T19:16:18.495500Z"
    }
   },
   "outputs": [],
   "source": [
    "obs = env.reset()\n",
    "obs_agent2 = env.obs_agent_two()\n",
    "for _ in range(100):\n",
    "    env.render()\n",
    "    a1 = player1.act(obs)\n",
    "    a2 = player2.act(obs_agent2)\n",
    "    obs, r, d, info = env.step(np.hstack([a1,a2]))    \n",
    "    obs_buffer.append(obs)\n",
    "    obs_agent2 = env.obs_agent_two()\n",
    "    if d: break"
   ]
  },
  {
   "cell_type": "code",
   "execution_count": 29,
   "metadata": {
    "ExecuteTime": {
     "end_time": "2018-12-28T12:27:58.824246Z",
     "start_time": "2018-12-28T12:27:58.813103Z"
    }
   },
   "outputs": [],
   "source": [
    "obs_buffer = np.asarray(obs_buffer)"
   ]
  },
  {
   "cell_type": "code",
   "execution_count": 30,
   "metadata": {
    "ExecuteTime": {
     "end_time": "2019-08-21T19:16:27.114353Z",
     "start_time": "2019-08-21T19:16:27.103201Z"
    }
   },
   "outputs": [
    {
     "data": {
      "text/plain": [
       "array([-2.59494957,  0.06027647,  0.00370276,  0.99623417, -0.11654746,\n",
       "        0.02245167,  0.01754069,  2.98037725,  0.1407342 , -0.01298093,\n",
       "        0.9941768 , -0.26517581,  0.04616248,  0.00328651,  0.48622455,\n",
       "        0.28039325, -0.26893161,  0.06226534])"
      ]
     },
     "execution_count": 30,
     "metadata": {},
     "output_type": "execute_result"
    }
   ],
   "source": [
    "np.mean(obs_buffer,axis=0)"
   ]
  },
  {
   "cell_type": "code",
   "execution_count": 31,
   "metadata": {
    "ExecuteTime": {
     "end_time": "2019-08-21T19:16:27.902145Z",
     "start_time": "2019-08-21T19:16:27.894650Z"
    }
   },
   "outputs": [
    {
     "data": {
      "text/plain": [
       "array([1.27123481, 0.90195064, 0.08610577, 0.00946401, 5.26970566,\n",
       "       5.92121405, 0.97356884, 1.4132427 , 0.85530606, 0.10671166,\n",
       "       0.00752436, 5.14424236, 5.50152834, 1.0922617 , 1.8840165 ,\n",
       "       1.40454836, 9.64596869, 9.91933676])"
      ]
     },
     "execution_count": 31,
     "metadata": {},
     "output_type": "execute_result"
    }
   ],
   "source": [
    "np.std(obs_buffer,axis=0)"
   ]
  },
  {
   "cell_type": "code",
   "execution_count": 32,
   "metadata": {
    "ExecuteTime": {
     "end_time": "2019-08-21T19:16:28.497119Z",
     "start_time": "2019-08-21T19:16:28.492780Z"
    }
   },
   "outputs": [],
   "source": [
    "scaling = [ 1.0,  1.0 , 3.14, 4.0, 4.0, 2.0,  \n",
    "            1.0,  1.0,  3.14, 4.0, 4.0, 2.0,  \n",
    "            2.0, 2.0, 10.0, 10.0]"
   ]
  },
  {
   "cell_type": "code",
   "execution_count": 21,
   "metadata": {},
   "outputs": [],
   "source": [
    "env.close()"
   ]
  },
  {
   "cell_type": "markdown",
   "metadata": {},
   "source": [
    "# Human Opponent"
   ]
  },
  {
   "cell_type": "code",
   "execution_count": 12,
   "metadata": {
    "ExecuteTime": {
     "end_time": "2019-08-21T19:16:32.838454Z",
     "start_time": "2019-08-21T19:16:32.834847Z"
    }
   },
   "outputs": [],
   "source": [
    "import time"
   ]
  },
  {
   "cell_type": "code",
   "execution_count": 13,
   "metadata": {
    "ExecuteTime": {
     "end_time": "2019-08-21T19:16:33.295971Z",
     "start_time": "2019-08-21T19:16:33.290071Z"
    }
   },
   "outputs": [],
   "source": [
    "env = lh.LaserHockeyEnv()"
   ]
  },
  {
   "cell_type": "code",
   "execution_count": 14,
   "metadata": {
    "ExecuteTime": {
     "end_time": "2019-08-21T19:16:33.801588Z",
     "start_time": "2019-08-21T19:16:33.738351Z"
    }
   },
   "outputs": [
    {
     "data": {
      "text/plain": [
       "True"
      ]
     },
     "execution_count": 14,
     "metadata": {},
     "output_type": "execute_result"
    }
   ],
   "source": [
    "o = env.reset()\n",
    "env.render()"
   ]
  },
  {
   "cell_type": "code",
   "execution_count": 9,
   "metadata": {
    "ExecuteTime": {
     "end_time": "2019-08-21T19:16:38.262611Z",
     "start_time": "2019-08-21T19:16:38.257285Z"
    }
   },
   "outputs": [
    {
     "name": "stdout",
     "output_type": "stream",
     "text": [
      "Human Controls:\n",
      " left:\t\t\tleft arrow key left\n",
      " right:\t\t\tarrow key right\n",
      " up:\t\t\tarrow key up\n",
      " down:\t\t\tarrow key down\n",
      " tilt clockwise:\tw\n",
      " tilt anti-clockwise:\ts\n"
     ]
    }
   ],
   "source": [
    "player1 = lh.HumanOpponent(env=env, player=1)\n",
    "player2 = lh.BasicOpponent()"
   ]
  },
  {
   "cell_type": "code",
   "execution_count": 11,
   "metadata": {
    "ExecuteTime": {
     "end_time": "2019-08-21T19:17:37.603826Z",
     "start_time": "2019-08-21T19:17:34.793733Z"
    },
    "scrolled": false
   },
   "outputs": [
    {
     "name": "stdout",
     "output_type": "stream",
     "text": [
      "Player 2 scored\n"
     ]
    }
   ],
   "source": [
    "obs = env.reset()\n",
    "time.sleep(1)\n",
    "obs_agent2 = env.obs_agent_two()\n",
    "for _ in range(1600):\n",
    "    env.render()\n",
    "    a1 = player1.act(obs)\n",
    "    a2 = player2.act(obs_agent2)\n",
    "    obs, r, d, info = env.step(np.hstack([a1,a2]))    \n",
    "    obs_agent2 = env.obs_agent_two()\n",
    "    if d: break"
   ]
  },
  {
   "cell_type": "code",
   "execution_count": null,
   "metadata": {},
   "outputs": [],
   "source": []
  }
 ],
 "metadata": {
  "kernelspec": {
   "display_name": "Gym-RL",
   "language": "python",
   "name": "gym-rl"
  },
  "language_info": {
   "codemirror_mode": {
    "name": "ipython",
    "version": 3
   },
   "file_extension": ".py",
   "mimetype": "text/x-python",
   "name": "python",
   "nbconvert_exporter": "python",
   "pygments_lexer": "ipython3",
   "version": "3.6.11"
  },
  "toc": {
   "base_numbering": 1,
   "nav_menu": {},
   "number_sections": true,
   "sideBar": true,
   "skip_h1_title": false,
   "title_cell": "Table of Contents",
   "title_sidebar": "Contents",
   "toc_cell": false,
   "toc_position": {},
   "toc_section_display": true,
   "toc_window_display": false
  }
 },
 "nbformat": 4,
 "nbformat_minor": 2
}
