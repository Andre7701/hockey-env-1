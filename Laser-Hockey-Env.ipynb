{
 "cells": [
  {
   "cell_type": "code",
   "execution_count": null,
   "metadata": {
    "ExecuteTime": {
     "end_time": "2018-12-23T09:22:35.732628Z",
     "start_time": "2018-12-23T09:22:35.485803Z"
    }
   },
   "outputs": [],
   "source": [
    "import numpy as np\n",
    "import laser_hockey_env as lh\n",
    "import gym\n",
    "from importlib import reload"
   ]
  },
  {
   "cell_type": "code",
   "execution_count": null,
   "metadata": {
    "ExecuteTime": {
     "end_time": "2018-12-23T09:22:35.888461Z",
     "start_time": "2018-12-23T09:22:35.879898Z"
    }
   },
   "outputs": [],
   "source": [
    "np.set_printoptions(suppress=True)"
   ]
  },
  {
   "cell_type": "markdown",
   "metadata": {
    "ExecuteTime": {
     "end_time": "2018-12-20T21:03:35.086427Z",
     "start_time": "2018-12-20T21:03:35.082123Z"
    }
   },
   "source": [
    "# Normal Game Play"
   ]
  },
  {
   "cell_type": "code",
   "execution_count": null,
   "metadata": {
    "ExecuteTime": {
     "end_time": "2018-12-21T12:23:58.180935Z",
     "start_time": "2018-12-21T12:23:58.169092Z"
    }
   },
   "outputs": [],
   "source": [
    "reload(lh)"
   ]
  },
  {
   "cell_type": "code",
   "execution_count": null,
   "metadata": {
    "ExecuteTime": {
     "end_time": "2018-12-21T12:24:00.162508Z",
     "start_time": "2018-12-21T12:24:00.151792Z"
    }
   },
   "outputs": [],
   "source": [
    "env = lh.LaserHockeyEnv()"
   ]
  },
  {
   "cell_type": "markdown",
   "metadata": {},
   "source": [
    "have a look at the initialization condition"
   ]
  },
  {
   "cell_type": "code",
   "execution_count": null,
   "metadata": {
    "ExecuteTime": {
     "end_time": "2018-12-21T12:24:01.084415Z",
     "start_time": "2018-12-21T12:24:00.981942Z"
    }
   },
   "outputs": [],
   "source": [
    "obs = env.reset()\n",
    "obs_agent2 = env.obs_agent_two()\n",
    "env.render()"
   ]
  },
  {
   "cell_type": "code",
   "execution_count": null,
   "metadata": {
    "ExecuteTime": {
     "end_time": "2018-12-21T11:20:35.721440Z",
     "start_time": "2018-12-21T11:20:27.245344Z"
    }
   },
   "outputs": [],
   "source": [
    "obs = env.reset()\n",
    "obs_agent2 = env.obs_agent_two()\n",
    "\n",
    "for _ in range(600):\n",
    "    env.render()\n",
    "    a1 = [1,-.5,0] # np.random.uniform(-1,1,3)\n",
    "    a2 = [1,0.,0] # np.random.uniform(-1,1,3)*0    \n",
    "    obs, r, d, info = env.step(np.hstack([a1,a2]))    \n",
    "    obs_agent2 = env.obs_agent_two()\n",
    "    if d: break"
   ]
  },
  {
   "cell_type": "markdown",
   "metadata": {},
   "source": [
    "Without rendering, it runs much faster"
   ]
  },
  {
   "cell_type": "code",
   "execution_count": null,
   "metadata": {
    "ExecuteTime": {
     "end_time": "2018-12-21T11:21:03.354146Z",
     "start_time": "2018-12-21T11:21:03.129588Z"
    }
   },
   "outputs": [],
   "source": [
    "obs = env.reset()\n",
    "obs_agent2 = env.obs_agent_two()\n",
    "\n",
    "for _ in range(600):    \n",
    "    a1 = [1,-.5,0] # np.random.uniform(-1,1,3)\n",
    "    a2 = [1,0.,0] # np.random.uniform(-1,1,3)*0    \n",
    "    obs, r, d, info = env.step(np.hstack([a1,a2]))    \n",
    "    obs_agent2 = env.obs_agent_two()\n",
    "    if d: break"
   ]
  },
  {
   "cell_type": "markdown",
   "metadata": {
    "ExecuteTime": {
     "end_time": "2018-12-20T20:37:41.013424Z",
     "start_time": "2018-12-20T20:37:41.009298Z"
    }
   },
   "source": [
    "# Train Shooting"
   ]
  },
  {
   "cell_type": "code",
   "execution_count": null,
   "metadata": {
    "ExecuteTime": {
     "end_time": "2018-12-21T12:47:30.613234Z",
     "start_time": "2018-12-21T12:47:30.601332Z"
    }
   },
   "outputs": [],
   "source": [
    "reload(lh)"
   ]
  },
  {
   "cell_type": "code",
   "execution_count": null,
   "metadata": {
    "ExecuteTime": {
     "end_time": "2018-12-21T12:47:30.982302Z",
     "start_time": "2018-12-21T12:47:30.974209Z"
    }
   },
   "outputs": [],
   "source": [
    "env = lh.LaserHockeyEnv(mode=lh.LaserHockeyEnv.TRAIN_SHOOTING)"
   ]
  },
  {
   "cell_type": "code",
   "execution_count": null,
   "metadata": {
    "ExecuteTime": {
     "end_time": "2018-12-21T12:47:31.286102Z",
     "start_time": "2018-12-21T12:47:31.277830Z"
    }
   },
   "outputs": [],
   "source": [
    "o = env.reset()"
   ]
  },
  {
   "cell_type": "code",
   "execution_count": null,
   "metadata": {
    "ExecuteTime": {
     "end_time": "2018-12-21T12:47:31.653479Z",
     "start_time": "2018-12-21T12:47:31.601616Z"
    }
   },
   "outputs": [],
   "source": [
    "env.render()"
   ]
  },
  {
   "cell_type": "code",
   "execution_count": null,
   "metadata": {
    "ExecuteTime": {
     "end_time": "2018-12-20T21:02:46.814548Z",
     "start_time": "2018-12-20T21:02:45.814488Z"
    }
   },
   "outputs": [],
   "source": [
    "for _ in range(60):\n",
    "    env.render()\n",
    "    a1 = [1,0,0] # np.random.uniform(-1,1,3)\n",
    "    a2 = [0,0.,0] \n",
    "    obs, r, d, info = env.step(np.hstack([a1,a2]))    \n",
    "    obs_agent2 = env.obs_agent_two()\n",
    "    if d: break"
   ]
  },
  {
   "cell_type": "markdown",
   "metadata": {
    "ExecuteTime": {
     "end_time": "2018-12-20T20:37:41.013424Z",
     "start_time": "2018-12-20T20:37:41.009298Z"
    }
   },
   "source": [
    "# Train DEFENDING"
   ]
  },
  {
   "cell_type": "code",
   "execution_count": null,
   "metadata": {
    "ExecuteTime": {
     "end_time": "2018-12-20T21:01:26.167961Z",
     "start_time": "2018-12-20T21:01:26.145416Z"
    }
   },
   "outputs": [],
   "source": [
    "reload(lh)"
   ]
  },
  {
   "cell_type": "code",
   "execution_count": null,
   "metadata": {
    "ExecuteTime": {
     "end_time": "2018-12-20T21:01:48.843972Z",
     "start_time": "2018-12-20T21:01:48.831855Z"
    }
   },
   "outputs": [],
   "source": [
    "env = lh.LaserHockeyEnv(mode=lh.LaserHockeyEnv.TRAIN_DEFENCE)"
   ]
  },
  {
   "cell_type": "code",
   "execution_count": null,
   "metadata": {
    "ExecuteTime": {
     "end_time": "2018-12-20T21:01:48.869373Z",
     "start_time": "2018-12-20T21:01:48.848899Z"
    }
   },
   "outputs": [],
   "source": [
    "o = env.reset()"
   ]
  },
  {
   "cell_type": "code",
   "execution_count": null,
   "metadata": {
    "ExecuteTime": {
     "end_time": "2018-12-20T21:01:48.973129Z",
     "start_time": "2018-12-20T21:01:48.871390Z"
    }
   },
   "outputs": [],
   "source": [
    "env.render()"
   ]
  },
  {
   "cell_type": "code",
   "execution_count": null,
   "metadata": {
    "ExecuteTime": {
     "end_time": "2018-12-20T21:01:50.001451Z",
     "start_time": "2018-12-20T21:01:48.980215Z"
    }
   },
   "outputs": [],
   "source": [
    "for _ in range(60):\n",
    "    env.render()\n",
    "    a1 = [1,0,0] # np.random.uniform(-1,1,3)\n",
    "    a2 = [0,0.,0] \n",
    "    obs, r, d, info = env.step(np.hstack([a1,a2]))    \n",
    "    obs_agent2 = env.obs_agent_two()\n",
    "    if d: break"
   ]
  },
  {
   "cell_type": "markdown",
   "metadata": {
    "ExecuteTime": {
     "end_time": "2018-12-20T20:37:41.013424Z",
     "start_time": "2018-12-20T20:37:41.009298Z"
    }
   },
   "source": [
    "# Using discrete actions"
   ]
  },
  {
   "cell_type": "code",
   "execution_count": null,
   "metadata": {
    "ExecuteTime": {
     "end_time": "2018-12-21T13:08:25.404585Z",
     "start_time": "2018-12-21T13:08:25.392585Z"
    }
   },
   "outputs": [],
   "source": [
    "reload(lh)"
   ]
  },
  {
   "cell_type": "code",
   "execution_count": null,
   "metadata": {
    "ExecuteTime": {
     "end_time": "2018-12-21T13:08:25.605760Z",
     "start_time": "2018-12-21T13:08:25.593455Z"
    }
   },
   "outputs": [],
   "source": [
    "env = lh.LaserHockeyEnv(mode=lh.LaserHockeyEnv.TRAIN_SHOOTING)"
   ]
  },
  {
   "cell_type": "code",
   "execution_count": null,
   "metadata": {
    "ExecuteTime": {
     "end_time": "2018-12-21T13:08:25.849615Z",
     "start_time": "2018-12-21T13:08:25.845081Z"
    }
   },
   "outputs": [],
   "source": [
    "import random"
   ]
  },
  {
   "cell_type": "code",
   "execution_count": null,
   "metadata": {
    "ExecuteTime": {
     "end_time": "2018-12-21T13:08:29.582257Z",
     "start_time": "2018-12-21T13:08:26.211196Z"
    }
   },
   "outputs": [],
   "source": [
    "for _ in range(200):\n",
    "    env.render()\n",
    "    a1_discrete = random.randint(0,7)\n",
    "    a1 = env.discrete_to_continous_action(a1_discrete)\n",
    "    a2 = [0,0.,0] \n",
    "    obs, r, d, info = env.step(np.hstack([a1,a2]))    \n",
    "    obs_agent2 = env.obs_agent_two()\n",
    "    if d: break"
   ]
  },
  {
   "cell_type": "code",
   "execution_count": null,
   "metadata": {},
   "outputs": [],
   "source": []
  },
  {
   "cell_type": "markdown",
   "metadata": {
    "ExecuteTime": {
     "end_time": "2018-12-20T20:37:41.013424Z",
     "start_time": "2018-12-20T20:37:41.009298Z"
    }
   },
   "source": [
    "# Hand-crafted Opponent"
   ]
  },
  {
   "cell_type": "code",
   "execution_count": null,
   "metadata": {
    "ExecuteTime": {
     "end_time": "2018-12-21T14:39:07.278095Z",
     "start_time": "2018-12-21T14:39:07.225723Z"
    }
   },
   "outputs": [],
   "source": [
    "reload(lh)"
   ]
  },
  {
   "cell_type": "code",
   "execution_count": null,
   "metadata": {
    "ExecuteTime": {
     "end_time": "2018-12-21T14:39:07.774417Z",
     "start_time": "2018-12-21T14:39:07.752772Z"
    }
   },
   "outputs": [],
   "source": [
    "env = lh.LaserHockeyEnv(mode=lh.LaserHockeyEnv.TRAIN_DEFENCE)"
   ]
  },
  {
   "cell_type": "code",
   "execution_count": null,
   "metadata": {
    "ExecuteTime": {
     "end_time": "2018-12-21T14:39:39.966073Z",
     "start_time": "2018-12-21T14:39:39.955188Z"
    }
   },
   "outputs": [],
   "source": [
    "o = env.reset()"
   ]
  },
  {
   "cell_type": "code",
   "execution_count": null,
   "metadata": {
    "ExecuteTime": {
     "end_time": "2018-12-21T14:39:09.223250Z",
     "start_time": "2018-12-21T14:39:08.795594Z"
    }
   },
   "outputs": [],
   "source": [
    "env.render()"
   ]
  },
  {
   "cell_type": "code",
   "execution_count": null,
   "metadata": {
    "ExecuteTime": {
     "end_time": "2018-12-21T14:39:12.597259Z",
     "start_time": "2018-12-21T14:39:12.589738Z"
    }
   },
   "outputs": [],
   "source": [
    "player1 = lh.BasicOpponent()\n",
    "player2 = lh.BasicOpponent()"
   ]
  },
  {
   "cell_type": "code",
   "execution_count": null,
   "metadata": {
    "ExecuteTime": {
     "end_time": "2018-12-21T14:39:45.422954Z",
     "start_time": "2018-12-21T14:39:41.121710Z"
    }
   },
   "outputs": [],
   "source": [
    "obs = env.reset()\n",
    "obs_agent2 = env.obs_agent_two()\n",
    "for _ in range(600):\n",
    "    env.render()\n",
    "    a1 = player1.act(obs)\n",
    "    a2 = player2.act(obs_agent2)\n",
    "    obs, r, d, info = env.step(np.hstack([a1,a2]))    \n",
    "    obs_agent2 = env.obs_agent_two()\n",
    "    if d: break"
   ]
  },
  {
   "cell_type": "markdown",
   "metadata": {},
   "source": [
    "# Human Opponent"
   ]
  },
  {
   "cell_type": "code",
   "execution_count": null,
   "metadata": {
    "ExecuteTime": {
     "end_time": "2018-12-23T09:22:41.648427Z",
     "start_time": "2018-12-23T09:22:41.618917Z"
    },
    "scrolled": true
   },
   "outputs": [],
   "source": [
    "reload(lh)"
   ]
  },
  {
   "cell_type": "code",
   "execution_count": null,
   "metadata": {
    "ExecuteTime": {
     "end_time": "2018-12-23T09:22:42.095821Z",
     "start_time": "2018-12-23T09:22:42.064367Z"
    }
   },
   "outputs": [],
   "source": [
    "env = lh.LaserHockeyEnv()"
   ]
  },
  {
   "cell_type": "code",
   "execution_count": null,
   "metadata": {
    "ExecuteTime": {
     "end_time": "2018-12-23T09:22:42.611410Z",
     "start_time": "2018-12-23T09:22:42.595783Z"
    }
   },
   "outputs": [],
   "source": [
    "o = env.reset()"
   ]
  },
  {
   "cell_type": "code",
   "execution_count": null,
   "metadata": {
    "ExecuteTime": {
     "end_time": "2018-12-23T09:22:43.492408Z",
     "start_time": "2018-12-23T09:22:43.094774Z"
    }
   },
   "outputs": [],
   "source": [
    "env.render()"
   ]
  },
  {
   "cell_type": "code",
   "execution_count": null,
   "metadata": {
    "ExecuteTime": {
     "end_time": "2018-12-23T09:23:36.653188Z",
     "start_time": "2018-12-23T09:23:36.633576Z"
    }
   },
   "outputs": [],
   "source": [
    "player1 = lh.HumanOpponent(env=env, player=1)\n",
    "player2 = lh.BasicOpponent()"
   ]
  },
  {
   "cell_type": "code",
   "execution_count": null,
   "metadata": {
    "ExecuteTime": {
     "end_time": "2018-12-23T09:26:10.755998Z",
     "start_time": "2018-12-23T09:26:02.424175Z"
    },
    "scrolled": false
   },
   "outputs": [],
   "source": [
    "obs = env.reset()\n",
    "obs_agent2 = env.obs_agent_two()\n",
    "for _ in range(600):\n",
    "    env.render()\n",
    "    a1 = player1.act(obs)\n",
    "    a2 = player2.act(obs_agent2) * 0\n",
    "    obs, r, d, info = env.step(np.hstack([a1,a2]))    \n",
    "    obs_agent2 = env.obs_agent_two()\n",
    "    if d: break"
   ]
  }
 ],
 "metadata": {
  "kernelspec": {
   "display_name": "Python 3",
   "language": "python",
   "name": "python3"
  },
  "language_info": {
   "codemirror_mode": {
    "name": "ipython",
    "version": 3
   },
   "file_extension": ".py",
   "mimetype": "text/x-python",
   "name": "python",
   "nbconvert_exporter": "python",
   "pygments_lexer": "ipython3",
   "version": "3.7.1"
  },
  "toc": {
   "base_numbering": 1,
   "nav_menu": {},
   "number_sections": true,
   "sideBar": true,
   "skip_h1_title": false,
   "title_cell": "Table of Contents",
   "title_sidebar": "Contents",
   "toc_cell": false,
   "toc_position": {},
   "toc_section_display": true,
   "toc_window_display": false
  }
 },
 "nbformat": 4,
 "nbformat_minor": 2
}
