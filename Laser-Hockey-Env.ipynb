{
 "cells": [
  {
   "cell_type": "code",
   "execution_count": 2,
   "metadata": {
    "ExecuteTime": {
     "end_time": "2019-01-01T20:29:09.221756Z",
     "start_time": "2019-01-01T20:29:08.902428Z"
    }
   },
   "outputs": [],
   "source": [
    "import numpy as np\n",
    "import laser_hockey_env as lh\n",
    "import gym\n",
    "from importlib import reload"
   ]
  },
  {
   "cell_type": "code",
   "execution_count": 3,
   "metadata": {
    "ExecuteTime": {
     "end_time": "2019-01-01T20:29:10.591397Z",
     "start_time": "2019-01-01T20:29:10.577979Z"
    }
   },
   "outputs": [],
   "source": [
    "np.set_printoptions(suppress=True)"
   ]
  },
  {
   "cell_type": "markdown",
   "metadata": {
    "ExecuteTime": {
     "end_time": "2018-12-20T21:03:35.086427Z",
     "start_time": "2018-12-20T21:03:35.082123Z"
    }
   },
   "source": [
    "# Normal Game Play"
   ]
  },
  {
   "cell_type": "code",
   "execution_count": 7,
   "metadata": {
    "ExecuteTime": {
     "end_time": "2018-12-28T12:20:32.402349Z",
     "start_time": "2018-12-28T12:20:32.376653Z"
    }
   },
   "outputs": [
    {
     "data": {
      "text/plain": [
       "<module 'laser_hockey_env' from '/home/georg/src/python/laser-hockey-rl/laserhockeyenv/laser_hockey_env.py'>"
      ]
     },
     "execution_count": 7,
     "metadata": {},
     "output_type": "execute_result"
    }
   ],
   "source": [
    "reload(lh)"
   ]
  },
  {
   "cell_type": "code",
   "execution_count": 8,
   "metadata": {
    "ExecuteTime": {
     "end_time": "2018-12-28T12:20:32.508294Z",
     "start_time": "2018-12-28T12:20:32.501220Z"
    }
   },
   "outputs": [],
   "source": [
    "env = lh.LaserHockeyEnv()"
   ]
  },
  {
   "cell_type": "markdown",
   "metadata": {},
   "source": [
    "have a look at the initialization condition"
   ]
  },
  {
   "cell_type": "code",
   "execution_count": 9,
   "metadata": {
    "ExecuteTime": {
     "end_time": "2018-12-28T12:20:33.316818Z",
     "start_time": "2018-12-28T12:20:33.192530Z"
    }
   },
   "outputs": [
    {
     "data": {
      "text/plain": [
       "True"
      ]
     },
     "execution_count": 9,
     "metadata": {},
     "output_type": "execute_result"
    }
   ],
   "source": [
    "obs = env.reset()\n",
    "obs_agent2 = env.obs_agent_two()\n",
    "env.render()"
   ]
  },
  {
   "cell_type": "code",
   "execution_count": 10,
   "metadata": {
    "ExecuteTime": {
     "end_time": "2018-12-28T12:20:44.623121Z",
     "start_time": "2018-12-28T12:20:36.236015Z"
    }
   },
   "outputs": [
    {
     "name": "stdout",
     "output_type": "stream",
     "text": [
      "13.335406939894362\n",
      "13.335406939894362\n",
      "13.335406939894362\n",
      "13.335406939894362\n",
      "13.335406939894362\n",
      "13.335406939894362\n",
      "13.335406939894362\n",
      "13.335406939894362\n",
      "13.335406939894362\n",
      "13.335406939894362\n",
      "13.335406939894362\n",
      "13.335406939894362\n",
      "13.335406939894362\n",
      "13.335406939894362\n",
      "13.335406939894362\n",
      "13.335406939894362\n",
      "13.335406939894362\n",
      "13.335406939894362\n",
      "13.335406939894362\n",
      "13.335406939894362\n",
      "13.335406939894362\n",
      "13.335406939894362\n",
      "13.335406939894362\n",
      "13.335406939894362\n",
      "13.335406939894362\n",
      "13.335406939894362\n",
      "13.335406939894362\n",
      "13.335406939894362\n",
      "13.335406939894362\n",
      "13.335406939894362\n",
      "13.335406939894362\n",
      "13.335406939894362\n",
      "13.335406939894362\n",
      "13.335406939894362\n",
      "13.335406939894362\n",
      "13.335406939894362\n",
      "13.335406939894362\n",
      "13.335406939894362\n",
      "13.335406939894362\n",
      "13.335406939894362\n",
      "13.335406939894362\n",
      "13.335406939894362\n",
      "13.335406939894362\n",
      "13.335406939894362\n",
      "13.335406939894362\n",
      "13.335406939894362\n",
      "13.335406939894362\n",
      "13.335406939894362\n",
      "13.335406939894362\n",
      "13.335406939894362\n",
      "13.335406939894362\n",
      "13.335406939894362\n",
      "13.335406939894362\n",
      "13.335406939894362\n",
      "13.335406939894362\n",
      "13.335406939894362\n",
      "13.335406939894362\n",
      "13.335406939894362\n",
      "13.335406939894362\n",
      "13.335406939894362\n",
      "13.335406939894362\n",
      "13.335406939894362\n",
      "13.335406939894362\n",
      "13.335406939894362\n",
      "13.335406939894362\n",
      "13.335406939894362\n",
      "13.335406939894362\n",
      "13.335406939894362\n",
      "13.335406939894362\n",
      "13.335406939894362\n",
      "13.335406939894362\n",
      "13.335406939894362\n",
      "13.335406939894362\n",
      "13.335406939894362\n",
      "13.335406939894362\n",
      "13.335406939894362\n",
      "13.335406939894362\n",
      "13.335406939894362\n",
      "13.335406939894362\n",
      "13.335406939894362\n",
      "13.335406939894362\n",
      "13.335406939894362\n",
      "13.335406939894362\n",
      "13.335406939894362\n",
      "13.335406939894362\n",
      "13.335406939894362\n",
      "13.335406939894362\n",
      "13.335406939894362\n",
      "13.335406939894362\n",
      "13.335406939894362\n",
      "13.335406939894362\n",
      "13.335406939894362\n",
      "13.335406939894362\n",
      "13.335406939894362\n",
      "13.335406939894362\n",
      "13.335406939894362\n",
      "13.335406939894362\n",
      "13.335406939894362\n",
      "13.335406939894362\n",
      "13.335406939894362\n",
      "13.335406939894362\n",
      "13.335406939894362\n",
      "13.335406939894362\n",
      "13.335406939894362\n",
      "13.335406939894362\n",
      "13.335406939894362\n",
      "13.335406939894362\n",
      "13.335406939894362\n",
      "13.335406939894362\n",
      "13.335406939894362\n",
      "13.335406939894362\n",
      "13.335406939894362\n",
      "13.335406939894362\n",
      "13.335406939894362\n",
      "13.335406939894362\n",
      "13.335406939894362\n",
      "13.335406939894362\n",
      "13.335406939894362\n",
      "13.335406939894362\n",
      "13.335406939894362\n",
      "13.335406939894362\n",
      "13.335406939894362\n",
      "13.335406939894362\n",
      "13.335406939894362\n",
      "13.335406939894362\n",
      "13.335406939894362\n",
      "13.335406939894362\n",
      "13.335406939894362\n",
      "13.335406939894362\n",
      "13.335406939894362\n",
      "13.335406939894362\n",
      "13.335406939894362\n",
      "13.335406939894362\n",
      "13.335406939894362\n",
      "13.335406939894362\n",
      "13.335406939894362\n",
      "13.335406939894362\n",
      "13.335406939894362\n",
      "13.335406939894362\n",
      "13.335406939894362\n",
      "13.335406939894362\n",
      "13.335406939894362\n",
      "13.335406939894362\n",
      "13.335406939894362\n",
      "13.335406939894362\n",
      "13.335406939894362\n",
      "13.335406939894362\n",
      "13.335406939894362\n",
      "13.335406939894362\n",
      "13.335406939894362\n",
      "13.335406939894362\n",
      "13.335406939894362\n",
      "13.335406939894362\n",
      "13.335406939894362\n",
      "13.335406939894362\n",
      "13.335406939894362\n",
      "13.335406939894362\n",
      "13.335406939894362\n",
      "13.335406939894362\n",
      "13.335406939894362\n",
      "13.335406939894362\n",
      "13.335406939894362\n",
      "13.335406939894362\n",
      "13.335406939894362\n",
      "13.335406939894362\n",
      "13.335406939894362\n",
      "13.335406939894362\n",
      "13.335406939894362\n",
      "13.335406939894362\n",
      "13.335406939894362\n",
      "13.335406939894362\n",
      "13.335406939894362\n",
      "13.335406939894362\n",
      "13.335406939894362\n",
      "13.335406939894362\n",
      "13.335406939894362\n",
      "13.335406939894362\n",
      "13.335406939894362\n",
      "13.335406939894362\n",
      "13.335406939894362\n",
      "13.335406939894362\n",
      "13.335406939894362\n",
      "13.335406939894362\n",
      "13.335406939894362\n",
      "13.335406939894362\n",
      "13.335406939894362\n",
      "13.335406939894362\n",
      "13.335406939894362\n",
      "13.335406939894362\n",
      "13.335406939894362\n",
      "13.335406939894362\n",
      "13.335406939894362\n",
      "13.335406939894362\n",
      "13.335406939894362\n",
      "13.335406939894362\n",
      "13.335406939894362\n",
      "13.335406939894362\n",
      "13.335406939894362\n",
      "13.335406939894362\n",
      "13.335406939894362\n",
      "13.335406939894362\n",
      "13.335406939894362\n",
      "13.335406939894362\n",
      "13.335406939894362\n",
      "13.335406939894362\n",
      "13.335406939894362\n",
      "13.335406939894362\n",
      "13.335406939894362\n",
      "13.335406939894362\n",
      "13.335406939894362\n",
      "13.335406939894362\n",
      "13.335406939894362\n",
      "13.335406939894362\n",
      "13.335406939894362\n",
      "13.335406939894362\n",
      "13.335406939894362\n",
      "13.335406939894362\n",
      "13.335406939894362\n",
      "13.335406939894362\n",
      "13.335406939894362\n",
      "13.335406939894362\n",
      "13.335406939894362\n",
      "13.335406939894362\n",
      "13.335406939894362\n",
      "13.335406939894362\n",
      "13.335406939894362\n",
      "13.335406939894362\n",
      "13.335406939894362\n",
      "13.335406939894362\n",
      "13.335406939894362\n",
      "13.335406939894362\n",
      "13.335406939894362\n",
      "13.335406939894362\n",
      "13.335406939894362\n",
      "13.335406939894362\n",
      "13.335406939894362\n",
      "13.335406939894362\n",
      "13.335406939894362\n",
      "13.335406939894362\n",
      "13.335406939894362\n",
      "13.335406939894362\n",
      "13.335406939894362\n",
      "13.335406939894362\n",
      "13.335406939894362\n",
      "13.335406939894362\n",
      "13.335406939894362\n",
      "13.335406939894362\n",
      "13.335406939894362\n",
      "13.335406939894362\n",
      "13.335406939894362\n",
      "13.335406939894362\n",
      "13.335406939894362\n",
      "13.335406939894362\n",
      "13.335406939894362\n",
      "13.335406939894362\n",
      "13.335406939894362\n",
      "13.335406939894362\n",
      "13.335406939894362\n",
      "13.335406939894362\n",
      "13.335406939894362\n",
      "13.335406939894362\n",
      "13.335406939894362\n",
      "13.335406939894362\n",
      "13.335406939894362\n",
      "13.335406939894362\n",
      "13.335406939894362\n",
      "13.335406939894362\n",
      "13.335406939894362\n",
      "13.335406939894362\n",
      "13.335406939894362\n",
      "13.335406939894362\n",
      "13.335406939894362\n",
      "13.335406939894362\n",
      "13.335406939894362\n",
      "13.335406939894362\n",
      "13.335406939894362\n",
      "13.335406939894362\n",
      "13.335406939894362\n",
      "13.335406939894362\n",
      "13.335406939894362\n",
      "13.335406939894362\n",
      "13.335406939894362\n",
      "13.335406939894362\n",
      "13.335406939894362\n",
      "13.335406939894362\n",
      "13.335406939894362\n",
      "13.335406939894362\n",
      "13.335406939894362\n",
      "13.335406939894362\n",
      "13.335406939894362\n",
      "13.335406939894362\n",
      "13.335406939894362\n",
      "13.335406939894362\n",
      "13.335406939894362\n",
      "13.335406939894362\n",
      "13.335406939894362\n",
      "13.335406939894362\n",
      "13.335406939894362\n",
      "13.335406939894362\n",
      "13.335406939894362\n",
      "13.335406939894362\n",
      "13.335406939894362\n",
      "13.335406939894362\n",
      "13.335406939894362\n",
      "13.335406939894362\n",
      "13.335406939894362\n",
      "13.335406939894362\n",
      "13.335406939894362\n",
      "13.335406939894362\n",
      "13.335406939894362\n",
      "13.335406939894362\n",
      "13.335406939894362\n",
      "13.335406939894362\n",
      "13.335406939894362\n",
      "13.335406939894362\n",
      "13.335406939894362\n",
      "13.335406939894362\n",
      "13.335406939894362\n",
      "13.335406939894362\n",
      "13.335406939894362\n",
      "13.335406939894362\n",
      "13.335406939894362\n",
      "13.335406939894362\n",
      "13.335406939894362\n",
      "13.335406939894362\n",
      "13.335406939894362\n",
      "13.335406939894362\n",
      "13.335406939894362\n",
      "13.335406939894362\n",
      "13.335406939894362\n",
      "13.335406939894362\n",
      "13.335406939894362\n",
      "13.335406939894362\n",
      "13.335406939894362\n",
      "13.335406939894362\n",
      "13.335406939894362\n",
      "13.335406939894362\n",
      "13.335406939894362\n",
      "13.335406939894362\n",
      "13.335406939894362\n",
      "13.335406939894362\n",
      "13.335406939894362\n",
      "13.335406939894362\n",
      "13.335406939894362\n",
      "13.335406939894362\n",
      "13.335406939894362\n",
      "13.335406939894362\n",
      "13.335406939894362\n",
      "13.335406939894362\n",
      "13.335406939894362\n",
      "13.335406939894362\n",
      "13.335406939894362\n",
      "13.335406939894362\n",
      "13.335406939894362\n",
      "13.335406939894362\n",
      "13.335406939894362\n",
      "13.335406939894362\n",
      "13.335406939894362\n",
      "13.335406939894362\n",
      "13.335406939894362\n",
      "13.335406939894362\n",
      "13.335406939894362\n",
      "13.335406939894362\n",
      "13.335406939894362\n",
      "13.335406939894362\n",
      "13.335406939894362\n",
      "13.335406939894362\n",
      "13.335406939894362\n",
      "13.335406939894362\n",
      "13.335406939894362\n",
      "13.335406939894362\n",
      "13.335406939894362\n",
      "13.335406939894362\n",
      "13.335406939894362\n",
      "13.335406939894362\n",
      "13.335406939894362\n",
      "13.335406939894362\n",
      "13.335406939894362\n",
      "13.335406939894362\n",
      "13.335406939894362\n",
      "13.335406939894362\n",
      "13.335406939894362\n",
      "13.335406939894362\n",
      "13.335406939894362\n",
      "13.335406939894362\n",
      "13.335406939894362\n",
      "13.335406939894362\n",
      "13.335406939894362\n",
      "13.335406939894362\n",
      "13.335406939894362\n",
      "13.335406939894362\n",
      "13.335406939894362\n",
      "13.335406939894362\n",
      "13.335406939894362\n",
      "13.335406939894362\n",
      "13.335406939894362\n",
      "13.335406939894362\n",
      "13.335406939894362\n",
      "13.335406939894362\n",
      "13.335406939894362\n",
      "13.335406939894362\n",
      "13.335406939894362\n",
      "13.335406939894362\n",
      "13.335406939894362\n",
      "13.335406939894362\n",
      "13.335406939894362\n",
      "13.335406939894362\n",
      "13.335406939894362\n",
      "13.335406939894362\n",
      "13.335406939894362\n",
      "13.335406939894362\n",
      "13.335406939894362\n",
      "13.335406939894362\n",
      "13.335406939894362\n",
      "13.335406939894362\n",
      "13.335406939894362\n",
      "13.335406939894362\n",
      "13.335406939894362\n",
      "13.335406939894362\n",
      "13.335406939894362\n",
      "13.335406939894362\n",
      "13.335406939894362\n",
      "13.335406939894362\n",
      "13.335406939894362\n",
      "13.335406939894362\n",
      "13.335406939894362\n",
      "13.335406939894362\n",
      "13.335406939894362\n",
      "13.335406939894362\n",
      "13.335406939894362\n",
      "13.335406939894362\n",
      "13.335406939894362\n",
      "13.335406939894362\n",
      "13.335406939894362\n",
      "13.335406939894362\n",
      "13.335406939894362\n"
     ]
    },
    {
     "name": "stdout",
     "output_type": "stream",
     "text": [
      "13.335406939894362\n",
      "13.335406939894362\n",
      "13.335406939894362\n",
      "13.335406939894362\n",
      "13.335406939894362\n",
      "13.335406939894362\n",
      "13.335406939894362\n",
      "13.335406939894362\n",
      "13.335406939894362\n",
      "13.335406939894362\n",
      "13.335406939894362\n",
      "13.335406939894362\n",
      "13.335406939894362\n",
      "13.335406939894362\n",
      "13.335406939894362\n",
      "13.335406939894362\n",
      "13.335406939894362\n",
      "13.335406939894362\n",
      "13.335406939894362\n",
      "13.335406939894362\n",
      "13.335406939894362\n",
      "13.335406939894362\n",
      "13.335406939894362\n",
      "13.335406939894362\n",
      "13.335406939894362\n",
      "13.335406939894362\n",
      "13.335406939894362\n",
      "13.335406939894362\n",
      "13.335406939894362\n",
      "13.335406939894362\n",
      "13.335406939894362\n",
      "13.335406939894362\n",
      "13.335406939894362\n",
      "13.335406939894362\n",
      "13.335406939894362\n",
      "13.335406939894362\n",
      "13.335406939894362\n",
      "13.335406939894362\n",
      "13.335406939894362\n",
      "13.335406939894362\n",
      "13.335406939894362\n",
      "13.335406939894362\n",
      "13.335406939894362\n",
      "13.335406939894362\n",
      "13.335406939894362\n",
      "13.335406939894362\n",
      "13.335406939894362\n",
      "13.335406939894362\n",
      "13.335406939894362\n",
      "13.335406939894362\n",
      "13.335406939894362\n",
      "13.335406939894362\n",
      "13.335406939894362\n",
      "13.335406939894362\n",
      "13.335406939894362\n",
      "13.335406939894362\n",
      "13.335406939894362\n",
      "13.335406939894362\n",
      "13.335406939894362\n",
      "13.335406939894362\n",
      "13.335406939894362\n",
      "13.335406939894362\n",
      "13.335406939894362\n",
      "13.335406939894362\n",
      "13.335406939894362\n"
     ]
    }
   ],
   "source": [
    "#obs = env.reset()\n",
    "obs_agent2 = env.obs_agent_two()\n",
    "\n",
    "for _ in range(600):\n",
    "    env.render()\n",
    "    a1 = [1,-.5,0] # np.random.uniform(-1,1,3)\n",
    "    a2 = [1,0.,0] # np.random.uniform(-1,1,3)*0    \n",
    "    obs, r, d, info = env.step(np.hstack([a1,a2]))    \n",
    "    obs_agent2 = env.obs_agent_two()\n",
    "    if d: break"
   ]
  },
  {
   "cell_type": "markdown",
   "metadata": {},
   "source": [
    "Without rendering, it runs much faster"
   ]
  },
  {
   "cell_type": "code",
   "execution_count": 20,
   "metadata": {
    "ExecuteTime": {
     "end_time": "2018-12-28T12:10:08.544248Z",
     "start_time": "2018-12-28T12:10:08.345194Z"
    }
   },
   "outputs": [],
   "source": [
    "obs = env.reset()\n",
    "obs_agent2 = env.obs_agent_two()\n",
    "\n",
    "for _ in range(600):    \n",
    "    a1 = [1,-.5,0] # np.random.uniform(-1,1,3)\n",
    "    a2 = [1,0.,0] # np.random.uniform(-1,1,3)*0    \n",
    "    obs, r, d, info = env.step(np.hstack([a1,a2]))    \n",
    "    obs_agent2 = env.obs_agent_two()\n",
    "    if d: break"
   ]
  },
  {
   "cell_type": "markdown",
   "metadata": {
    "ExecuteTime": {
     "end_time": "2018-12-20T20:37:41.013424Z",
     "start_time": "2018-12-20T20:37:41.009298Z"
    }
   },
   "source": [
    "# Train Shooting"
   ]
  },
  {
   "cell_type": "code",
   "execution_count": 15,
   "metadata": {
    "ExecuteTime": {
     "end_time": "2018-12-28T11:48:17.037115Z",
     "start_time": "2018-12-28T11:48:17.011422Z"
    }
   },
   "outputs": [
    {
     "data": {
      "text/plain": [
       "<module 'laser_hockey_env' from '/home/georg/src/python/laser-hockey-rl/laserhockeyenv/laser_hockey_env.py'>"
      ]
     },
     "execution_count": 15,
     "metadata": {},
     "output_type": "execute_result"
    }
   ],
   "source": [
    "reload(lh)"
   ]
  },
  {
   "cell_type": "code",
   "execution_count": 16,
   "metadata": {
    "ExecuteTime": {
     "end_time": "2018-12-28T11:48:17.186186Z",
     "start_time": "2018-12-28T11:48:17.166614Z"
    }
   },
   "outputs": [],
   "source": [
    "env = lh.LaserHockeyEnv(mode=lh.LaserHockeyEnv.TRAIN_SHOOTING)"
   ]
  },
  {
   "cell_type": "code",
   "execution_count": 17,
   "metadata": {
    "ExecuteTime": {
     "end_time": "2018-12-28T11:48:17.335468Z",
     "start_time": "2018-12-28T11:48:17.325740Z"
    }
   },
   "outputs": [],
   "source": [
    "o = env.reset()"
   ]
  },
  {
   "cell_type": "code",
   "execution_count": 18,
   "metadata": {
    "ExecuteTime": {
     "end_time": "2018-12-28T11:48:17.600253Z",
     "start_time": "2018-12-28T11:48:17.536644Z"
    }
   },
   "outputs": [
    {
     "data": {
      "text/plain": [
       "True"
      ]
     },
     "execution_count": 18,
     "metadata": {},
     "output_type": "execute_result"
    }
   ],
   "source": [
    "env.render()"
   ]
  },
  {
   "cell_type": "code",
   "execution_count": null,
   "metadata": {
    "ExecuteTime": {
     "end_time": "2018-12-20T21:02:46.814548Z",
     "start_time": "2018-12-20T21:02:45.814488Z"
    }
   },
   "outputs": [],
   "source": [
    "for _ in range(60):\n",
    "    env.render()\n",
    "    a1 = [1,0,0] # np.random.uniform(-1,1,3)\n",
    "    a2 = [0,0.,0] \n",
    "    obs, r, d, info = env.step(np.hstack([a1,a2]))    \n",
    "    obs_agent2 = env.obs_agent_two()\n",
    "    if d: break"
   ]
  },
  {
   "cell_type": "markdown",
   "metadata": {
    "ExecuteTime": {
     "end_time": "2018-12-20T20:37:41.013424Z",
     "start_time": "2018-12-20T20:37:41.009298Z"
    }
   },
   "source": [
    "# Train DEFENDING"
   ]
  },
  {
   "cell_type": "code",
   "execution_count": 4,
   "metadata": {
    "ExecuteTime": {
     "end_time": "2019-01-01T20:29:15.583403Z",
     "start_time": "2019-01-01T20:29:15.549195Z"
    }
   },
   "outputs": [
    {
     "data": {
      "text/plain": [
       "<module 'laser_hockey_env' from '/home/georg/src/python/laser-hockey-rl/laserhockeyenv/laser_hockey_env.py'>"
      ]
     },
     "execution_count": 4,
     "metadata": {},
     "output_type": "execute_result"
    }
   ],
   "source": [
    "reload(lh)"
   ]
  },
  {
   "cell_type": "code",
   "execution_count": 5,
   "metadata": {
    "ExecuteTime": {
     "end_time": "2019-01-01T20:29:15.780725Z",
     "start_time": "2019-01-01T20:29:15.764714Z"
    }
   },
   "outputs": [],
   "source": [
    "env = lh.LaserHockeyEnv(mode=lh.LaserHockeyEnv.TRAIN_DEFENCE)"
   ]
  },
  {
   "cell_type": "code",
   "execution_count": 6,
   "metadata": {
    "ExecuteTime": {
     "end_time": "2019-01-01T20:29:16.269001Z",
     "start_time": "2019-01-01T20:29:16.253874Z"
    }
   },
   "outputs": [],
   "source": [
    "o = env.reset()"
   ]
  },
  {
   "cell_type": "code",
   "execution_count": 7,
   "metadata": {
    "ExecuteTime": {
     "end_time": "2019-01-01T20:29:17.096923Z",
     "start_time": "2019-01-01T20:29:16.735426Z"
    }
   },
   "outputs": [
    {
     "data": {
      "text/plain": [
       "True"
      ]
     },
     "execution_count": 7,
     "metadata": {},
     "output_type": "execute_result"
    }
   ],
   "source": [
    "env.render()"
   ]
  },
  {
   "cell_type": "code",
   "execution_count": 8,
   "metadata": {
    "ExecuteTime": {
     "end_time": "2019-01-01T20:29:21.674161Z",
     "start_time": "2019-01-01T20:29:20.974879Z"
    }
   },
   "outputs": [
    {
     "name": "stdout",
     "output_type": "stream",
     "text": [
      "Player 2 scored\n"
     ]
    }
   ],
   "source": [
    "for _ in range(60):\n",
    "    env.render()\n",
    "    a1 = [1,0,0] # np.random.uniform(-1,1,3)\n",
    "    a2 = [0,0.,0] \n",
    "    obs, r, d, info = env.step(np.hstack([a1,a2]))    \n",
    "    obs_agent2 = env.obs_agent_two()\n",
    "    if d: break"
   ]
  },
  {
   "cell_type": "markdown",
   "metadata": {
    "ExecuteTime": {
     "end_time": "2018-12-20T20:37:41.013424Z",
     "start_time": "2018-12-20T20:37:41.009298Z"
    }
   },
   "source": [
    "# Using discrete actions"
   ]
  },
  {
   "cell_type": "code",
   "execution_count": null,
   "metadata": {
    "ExecuteTime": {
     "end_time": "2018-12-21T13:08:25.404585Z",
     "start_time": "2018-12-21T13:08:25.392585Z"
    }
   },
   "outputs": [],
   "source": [
    "reload(lh)"
   ]
  },
  {
   "cell_type": "code",
   "execution_count": null,
   "metadata": {
    "ExecuteTime": {
     "end_time": "2018-12-21T13:08:25.605760Z",
     "start_time": "2018-12-21T13:08:25.593455Z"
    }
   },
   "outputs": [],
   "source": [
    "env = lh.LaserHockeyEnv(mode=lh.LaserHockeyEnv.TRAIN_SHOOTING)"
   ]
  },
  {
   "cell_type": "code",
   "execution_count": null,
   "metadata": {
    "ExecuteTime": {
     "end_time": "2018-12-21T13:08:25.849615Z",
     "start_time": "2018-12-21T13:08:25.845081Z"
    }
   },
   "outputs": [],
   "source": [
    "import random"
   ]
  },
  {
   "cell_type": "code",
   "execution_count": null,
   "metadata": {
    "ExecuteTime": {
     "end_time": "2018-12-21T13:08:29.582257Z",
     "start_time": "2018-12-21T13:08:26.211196Z"
    }
   },
   "outputs": [],
   "source": [
    "for _ in range(200):\n",
    "    env.render()\n",
    "    a1_discrete = random.randint(0,7)\n",
    "    a1 = env.discrete_to_continous_action(a1_discrete)\n",
    "    a2 = [0,0.,0] \n",
    "    obs, r, d, info = env.step(np.hstack([a1,a2]))    \n",
    "    obs_agent2 = env.obs_agent_two()\n",
    "    if d: break"
   ]
  },
  {
   "cell_type": "code",
   "execution_count": null,
   "metadata": {},
   "outputs": [],
   "source": []
  },
  {
   "cell_type": "markdown",
   "metadata": {
    "ExecuteTime": {
     "end_time": "2018-12-20T20:37:41.013424Z",
     "start_time": "2018-12-20T20:37:41.009298Z"
    }
   },
   "source": [
    "# Hand-crafted Opponent"
   ]
  },
  {
   "cell_type": "code",
   "execution_count": 1,
   "metadata": {
    "ExecuteTime": {
     "end_time": "2019-01-01T20:29:01.796965Z",
     "start_time": "2019-01-01T20:29:01.367126Z"
    }
   },
   "outputs": [
    {
     "ename": "NameError",
     "evalue": "name 'reload' is not defined",
     "output_type": "error",
     "traceback": [
      "\u001b[0;31m---------------------------------------------------------------------------\u001b[0m",
      "\u001b[0;31mNameError\u001b[0m                                 Traceback (most recent call last)",
      "\u001b[0;32m<ipython-input-1-9f8d7ddad6b2>\u001b[0m in \u001b[0;36m<module>\u001b[0;34m()\u001b[0m\n\u001b[0;32m----> 1\u001b[0;31m \u001b[0mreload\u001b[0m\u001b[0;34m(\u001b[0m\u001b[0mlh\u001b[0m\u001b[0;34m)\u001b[0m\u001b[0;34m\u001b[0m\u001b[0m\n\u001b[0m",
      "\u001b[0;31mNameError\u001b[0m: name 'reload' is not defined"
     ]
    }
   ],
   "source": [
    "reload(lh)"
   ]
  },
  {
   "cell_type": "code",
   "execution_count": null,
   "metadata": {
    "ExecuteTime": {
     "end_time": "2019-01-01T20:29:01.800220Z",
     "start_time": "2019-01-01T20:29:01.409Z"
    }
   },
   "outputs": [],
   "source": [
    "env = lh.LaserHockeyEnv(mode=lh.LaserHockeyEnv.TRAIN_DEFENCE)"
   ]
  },
  {
   "cell_type": "code",
   "execution_count": null,
   "metadata": {
    "ExecuteTime": {
     "end_time": "2019-01-01T20:29:01.803363Z",
     "start_time": "2019-01-01T20:29:01.742Z"
    }
   },
   "outputs": [],
   "source": [
    "o = env.reset()"
   ]
  },
  {
   "cell_type": "code",
   "execution_count": 30,
   "metadata": {
    "ExecuteTime": {
     "end_time": "2018-12-28T12:25:54.635043Z",
     "start_time": "2018-12-28T12:25:54.571250Z"
    }
   },
   "outputs": [
    {
     "data": {
      "text/plain": [
       "True"
      ]
     },
     "execution_count": 30,
     "metadata": {},
     "output_type": "execute_result"
    }
   ],
   "source": [
    "env.render()"
   ]
  },
  {
   "cell_type": "code",
   "execution_count": 37,
   "metadata": {
    "ExecuteTime": {
     "end_time": "2018-12-28T12:27:05.238431Z",
     "start_time": "2018-12-28T12:27:05.235292Z"
    }
   },
   "outputs": [],
   "source": [
    "player1 = lh.BasicOpponent()\n",
    "player2 = lh.BasicOpponent()"
   ]
  },
  {
   "cell_type": "code",
   "execution_count": 38,
   "metadata": {
    "ExecuteTime": {
     "end_time": "2018-12-28T12:27:05.432126Z",
     "start_time": "2018-12-28T12:27:05.427511Z"
    }
   },
   "outputs": [],
   "source": [
    "obs_buffer = []"
   ]
  },
  {
   "cell_type": "code",
   "execution_count": 44,
   "metadata": {
    "ExecuteTime": {
     "end_time": "2018-12-28T12:27:33.516832Z",
     "start_time": "2018-12-28T12:27:30.855895Z"
    }
   },
   "outputs": [
    {
     "name": "stdout",
     "output_type": "stream",
     "text": [
      "Player 2 scored\n"
     ]
    }
   ],
   "source": [
    "obs = env.reset()\n",
    "obs_agent2 = env.obs_agent_two()\n",
    "for _ in range(600):\n",
    "    env.render()\n",
    "    a1 = player1.act(obs)\n",
    "    a2 = player2.act(obs_agent2)\n",
    "    obs, r, d, info = env.step(np.hstack([a1,a2]))    \n",
    "    obs_buffer.append(obs)\n",
    "    obs_agent2 = env.obs_agent_two()\n",
    "    if d: break"
   ]
  },
  {
   "cell_type": "code",
   "execution_count": 45,
   "metadata": {
    "ExecuteTime": {
     "end_time": "2018-12-28T12:27:58.824246Z",
     "start_time": "2018-12-28T12:27:58.813103Z"
    }
   },
   "outputs": [],
   "source": [
    "obs_buffer = np.asarray(obs_buffer)"
   ]
  },
  {
   "cell_type": "code",
   "execution_count": 46,
   "metadata": {
    "ExecuteTime": {
     "end_time": "2018-12-28T12:28:17.864363Z",
     "start_time": "2018-12-28T12:28:17.847595Z"
    }
   },
   "outputs": [
    {
     "data": {
      "text/plain": [
       "array([-6.21772583,  0.14022074, -0.50388751,  0.06938814,  0.42967239,\n",
       "       -0.05056231,  5.99394432,  0.190191  , -0.04062059,  1.15586982,\n",
       "       -0.13772885, -0.0704963 , -0.85041827,  0.12573967, -2.2194066 ,\n",
       "       -0.30853598])"
      ]
     },
     "execution_count": 46,
     "metadata": {},
     "output_type": "execute_result"
    }
   ],
   "source": [
    "np.mean(obs_buffer,axis=0)"
   ]
  },
  {
   "cell_type": "code",
   "execution_count": 47,
   "metadata": {
    "ExecuteTime": {
     "end_time": "2018-12-28T12:28:31.513942Z",
     "start_time": "2018-12-28T12:28:31.499813Z"
    }
   },
   "outputs": [
    {
     "data": {
      "text/plain": [
       "array([ 1.09465005,  1.7363143 ,  2.48617842,  4.01910657,  5.39319311,\n",
       "        2.70587981,  1.44744218,  1.54582286,  0.24750636,  4.41002617,\n",
       "        5.06345003,  0.4849688 ,  2.66636978,  2.25679011, 13.08127676,\n",
       "        7.6629061 ])"
      ]
     },
     "execution_count": 47,
     "metadata": {},
     "output_type": "execute_result"
    }
   ],
   "source": [
    "np.std(obs_buffer,axis=0)"
   ]
  },
  {
   "cell_type": "code",
   "execution_count": null,
   "metadata": {},
   "outputs": [],
   "source": [
    "scaling = [ 1.0,  1.0 , 3.14, 4.0, 4.0, 2.0,  \n",
    "            1.0,  1.0,  3.14, 4.0, 4.0, 2.0,  \n",
    "            2.0, 2.0, 10.0, 10.0]"
   ]
  },
  {
   "cell_type": "markdown",
   "metadata": {},
   "source": [
    "# Human Opponent"
   ]
  },
  {
   "cell_type": "code",
   "execution_count": 10,
   "metadata": {
    "ExecuteTime": {
     "end_time": "2018-12-27T23:29:58.306819Z",
     "start_time": "2018-12-27T23:29:58.282514Z"
    },
    "scrolled": true
   },
   "outputs": [
    {
     "data": {
      "text/plain": [
       "<module 'laser_hockey_env' from '/home/georg/src/python/laser-hockey-rl/laserhockeyenv/laser_hockey_env.py'>"
      ]
     },
     "execution_count": 10,
     "metadata": {},
     "output_type": "execute_result"
    }
   ],
   "source": [
    "reload(lh)"
   ]
  },
  {
   "cell_type": "code",
   "execution_count": 11,
   "metadata": {
    "ExecuteTime": {
     "end_time": "2018-12-27T23:29:58.703178Z",
     "start_time": "2018-12-27T23:29:58.690611Z"
    }
   },
   "outputs": [],
   "source": [
    "env = lh.LaserHockeyEnv()"
   ]
  },
  {
   "cell_type": "code",
   "execution_count": 12,
   "metadata": {
    "ExecuteTime": {
     "end_time": "2018-12-27T23:29:59.125733Z",
     "start_time": "2018-12-27T23:29:59.115927Z"
    }
   },
   "outputs": [],
   "source": [
    "o = env.reset()"
   ]
  },
  {
   "cell_type": "code",
   "execution_count": 13,
   "metadata": {
    "ExecuteTime": {
     "end_time": "2018-12-27T23:29:59.525158Z",
     "start_time": "2018-12-27T23:29:59.441172Z"
    }
   },
   "outputs": [
    {
     "data": {
      "text/plain": [
       "True"
      ]
     },
     "execution_count": 13,
     "metadata": {},
     "output_type": "execute_result"
    }
   ],
   "source": [
    "env.render()"
   ]
  },
  {
   "cell_type": "code",
   "execution_count": 14,
   "metadata": {
    "ExecuteTime": {
     "end_time": "2018-12-27T23:30:04.374930Z",
     "start_time": "2018-12-27T23:30:04.341725Z"
    }
   },
   "outputs": [
    {
     "name": "stdout",
     "output_type": "stream",
     "text": [
      "Human Controls:\n",
      " left:\t\t\tleft arrow key left\n",
      " right:\t\t\tarrow key right\n",
      " up:\t\t\tarrow key up\n",
      " down:\t\t\tarrow key down\n",
      " tilt clockwise:\tw\n",
      " tilt anti-clockwise:\ts\n"
     ]
    }
   ],
   "source": [
    "player1 = lh.HumanOpponent(env=env, player=1)\n",
    "player2 = lh.BasicOpponent()"
   ]
  },
  {
   "cell_type": "code",
   "execution_count": 18,
   "metadata": {
    "ExecuteTime": {
     "end_time": "2018-12-27T23:30:55.123198Z",
     "start_time": "2018-12-27T23:30:52.895958Z"
    },
    "scrolled": false
   },
   "outputs": [
    {
     "name": "stdout",
     "output_type": "stream",
     "text": [
      "Player 1 scored\n"
     ]
    }
   ],
   "source": [
    "obs = env.reset()\n",
    "obs_agent2 = env.obs_agent_two()\n",
    "for _ in range(600):\n",
    "    env.render()\n",
    "    a1 = player1.act(obs)\n",
    "    a2 = player2.act(obs_agent2)\n",
    "    obs, r, d, info = env.step(np.hstack([a1,a2]))    \n",
    "    obs_agent2 = env.obs_agent_two()\n",
    "    if d: break"
   ]
  },
  {
   "cell_type": "code",
   "execution_count": null,
   "metadata": {},
   "outputs": [],
   "source": []
  }
 ],
 "metadata": {
  "kernelspec": {
   "display_name": "Python 3",
   "language": "python",
   "name": "python3"
  },
  "language_info": {
   "codemirror_mode": {
    "name": "ipython",
    "version": 3
   },
   "file_extension": ".py",
   "mimetype": "text/x-python",
   "name": "python",
   "nbconvert_exporter": "python",
   "pygments_lexer": "ipython3",
   "version": "3.6.3"
  },
  "toc": {
   "base_numbering": 1,
   "nav_menu": {},
   "number_sections": true,
   "sideBar": true,
   "skip_h1_title": false,
   "title_cell": "Table of Contents",
   "title_sidebar": "Contents",
   "toc_cell": false,
   "toc_position": {},
   "toc_section_display": true,
   "toc_window_display": false
  }
 },
 "nbformat": 4,
 "nbformat_minor": 2
}
